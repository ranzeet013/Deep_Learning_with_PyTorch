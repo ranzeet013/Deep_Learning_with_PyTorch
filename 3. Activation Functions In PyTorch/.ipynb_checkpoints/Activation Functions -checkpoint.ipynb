{
 "cells": [
  {
   "cell_type": "code",
   "execution_count": 1,
   "id": "5fbe83e9",
   "metadata": {},
   "outputs": [],
   "source": [
    "import torch\n",
    "import torch.nn as nn\n",
    "import torch.nn.functional as f\n",
    "from torch.autograd import Variable"
   ]
  },
  {
   "cell_type": "code",
   "execution_count": 2,
   "id": "8f2fb8e6",
   "metadata": {},
   "outputs": [
    {
     "data": {
      "text/plain": [
       "<torch._C.Generator at 0x273931a71f0>"
      ]
     },
     "execution_count": 2,
     "metadata": {},
     "output_type": "execute_result"
    }
   ],
   "source": [
    "import numpy\n",
    "import matplotlib.pyplot as plt\n",
    "\n",
    "%matplotlib inline\n",
    "torch.manual_seed(4)"
   ]
  },
  {
   "cell_type": "markdown",
   "id": "392dccee",
   "metadata": {},
   "source": [
    "### Activation Functions :"
   ]
  },
  {
   "cell_type": "markdown",
   "id": "19267e1d",
   "metadata": {},
   "source": [
    "\n",
    "Activation functions are mathematical operations applied to the output of a neuron or node in a neural network. They introduce non-linearity to the network, enabling it to model complex relationships and solve a wide range of tasks."
   ]
  },
  {
   "cell_type": "code",
   "execution_count": 3,
   "id": "d401847a",
   "metadata": {},
   "outputs": [],
   "source": [
    "x = torch.linspace(5, -5, 200)"
   ]
  },
  {
   "cell_type": "code",
   "execution_count": 4,
   "id": "665590ac",
   "metadata": {},
   "outputs": [
    {
     "data": {
      "text/plain": [
       "tensor([ 5.0000,  4.9497,  4.8995,  4.8492,  4.7990,  4.7487,  4.6985,  4.6482,\n",
       "         4.5980,  4.5477,  4.4975,  4.4472,  4.3970,  4.3467,  4.2965,  4.2462,\n",
       "         4.1960,  4.1457,  4.0955,  4.0452,  3.9950,  3.9447,  3.8945,  3.8442,\n",
       "         3.7940,  3.7437,  3.6935,  3.6432,  3.5930,  3.5427,  3.4925,  3.4422,\n",
       "         3.3920,  3.3417,  3.2915,  3.2412,  3.1910,  3.1407,  3.0905,  3.0402,\n",
       "         2.9899,  2.9397,  2.8894,  2.8392,  2.7889,  2.7387,  2.6884,  2.6382,\n",
       "         2.5879,  2.5377,  2.4874,  2.4372,  2.3869,  2.3367,  2.2864,  2.2362,\n",
       "         2.1859,  2.1357,  2.0854,  2.0352,  1.9849,  1.9347,  1.8844,  1.8342,\n",
       "         1.7839,  1.7337,  1.6834,  1.6332,  1.5829,  1.5327,  1.4824,  1.4322,\n",
       "         1.3819,  1.3317,  1.2814,  1.2312,  1.1809,  1.1307,  1.0804,  1.0302,\n",
       "         0.9799,  0.9296,  0.8794,  0.8291,  0.7789,  0.7286,  0.6784,  0.6281,\n",
       "         0.5779,  0.5276,  0.4774,  0.4271,  0.3769,  0.3266,  0.2764,  0.2261,\n",
       "         0.1759,  0.1256,  0.0754,  0.0251, -0.0251, -0.0754, -0.1256, -0.1759,\n",
       "        -0.2261, -0.2764, -0.3266, -0.3769, -0.4271, -0.4774, -0.5276, -0.5779,\n",
       "        -0.6281, -0.6784, -0.7286, -0.7789, -0.8291, -0.8794, -0.9296, -0.9799,\n",
       "        -1.0302, -1.0804, -1.1307, -1.1809, -1.2312, -1.2814, -1.3317, -1.3819,\n",
       "        -1.4322, -1.4824, -1.5327, -1.5829, -1.6332, -1.6834, -1.7337, -1.7839,\n",
       "        -1.8342, -1.8844, -1.9347, -1.9849, -2.0352, -2.0854, -2.1357, -2.1859,\n",
       "        -2.2362, -2.2864, -2.3367, -2.3869, -2.4372, -2.4874, -2.5377, -2.5879,\n",
       "        -2.6382, -2.6884, -2.7387, -2.7889, -2.8392, -2.8894, -2.9397, -2.9899,\n",
       "        -3.0402, -3.0905, -3.1407, -3.1910, -3.2412, -3.2915, -3.3417, -3.3920,\n",
       "        -3.4422, -3.4925, -3.5427, -3.5930, -3.6432, -3.6935, -3.7437, -3.7940,\n",
       "        -3.8442, -3.8945, -3.9447, -3.9950, -4.0452, -4.0955, -4.1457, -4.1960,\n",
       "        -4.2462, -4.2965, -4.3467, -4.3970, -4.4472, -4.4975, -4.5477, -4.5980,\n",
       "        -4.6482, -4.6985, -4.7487, -4.7990, -4.8492, -4.8995, -4.9497, -5.0000])"
      ]
     },
     "execution_count": 4,
     "metadata": {},
     "output_type": "execute_result"
    }
   ],
   "source": [
    "x"
   ]
  },
  {
   "cell_type": "code",
   "execution_count": 5,
   "id": "b5cb8bd0",
   "metadata": {},
   "outputs": [],
   "source": [
    "x = Variable(x)"
   ]
  },
  {
   "cell_type": "code",
   "execution_count": 6,
   "id": "f1df833c",
   "metadata": {},
   "outputs": [
    {
     "data": {
      "text/plain": [
       "tensor([ 5.0000,  4.9497,  4.8995,  4.8492,  4.7990,  4.7487,  4.6985,  4.6482,\n",
       "         4.5980,  4.5477,  4.4975,  4.4472,  4.3970,  4.3467,  4.2965,  4.2462,\n",
       "         4.1960,  4.1457,  4.0955,  4.0452,  3.9950,  3.9447,  3.8945,  3.8442,\n",
       "         3.7940,  3.7437,  3.6935,  3.6432,  3.5930,  3.5427,  3.4925,  3.4422,\n",
       "         3.3920,  3.3417,  3.2915,  3.2412,  3.1910,  3.1407,  3.0905,  3.0402,\n",
       "         2.9899,  2.9397,  2.8894,  2.8392,  2.7889,  2.7387,  2.6884,  2.6382,\n",
       "         2.5879,  2.5377,  2.4874,  2.4372,  2.3869,  2.3367,  2.2864,  2.2362,\n",
       "         2.1859,  2.1357,  2.0854,  2.0352,  1.9849,  1.9347,  1.8844,  1.8342,\n",
       "         1.7839,  1.7337,  1.6834,  1.6332,  1.5829,  1.5327,  1.4824,  1.4322,\n",
       "         1.3819,  1.3317,  1.2814,  1.2312,  1.1809,  1.1307,  1.0804,  1.0302,\n",
       "         0.9799,  0.9296,  0.8794,  0.8291,  0.7789,  0.7286,  0.6784,  0.6281,\n",
       "         0.5779,  0.5276,  0.4774,  0.4271,  0.3769,  0.3266,  0.2764,  0.2261,\n",
       "         0.1759,  0.1256,  0.0754,  0.0251, -0.0251, -0.0754, -0.1256, -0.1759,\n",
       "        -0.2261, -0.2764, -0.3266, -0.3769, -0.4271, -0.4774, -0.5276, -0.5779,\n",
       "        -0.6281, -0.6784, -0.7286, -0.7789, -0.8291, -0.8794, -0.9296, -0.9799,\n",
       "        -1.0302, -1.0804, -1.1307, -1.1809, -1.2312, -1.2814, -1.3317, -1.3819,\n",
       "        -1.4322, -1.4824, -1.5327, -1.5829, -1.6332, -1.6834, -1.7337, -1.7839,\n",
       "        -1.8342, -1.8844, -1.9347, -1.9849, -2.0352, -2.0854, -2.1357, -2.1859,\n",
       "        -2.2362, -2.2864, -2.3367, -2.3869, -2.4372, -2.4874, -2.5377, -2.5879,\n",
       "        -2.6382, -2.6884, -2.7387, -2.7889, -2.8392, -2.8894, -2.9397, -2.9899,\n",
       "        -3.0402, -3.0905, -3.1407, -3.1910, -3.2412, -3.2915, -3.3417, -3.3920,\n",
       "        -3.4422, -3.4925, -3.5427, -3.5930, -3.6432, -3.6935, -3.7437, -3.7940,\n",
       "        -3.8442, -3.8945, -3.9447, -3.9950, -4.0452, -4.0955, -4.1457, -4.1960,\n",
       "        -4.2462, -4.2965, -4.3467, -4.3970, -4.4472, -4.4975, -4.5477, -4.5980,\n",
       "        -4.6482, -4.6985, -4.7487, -4.7990, -4.8492, -4.8995, -4.9497, -5.0000])"
      ]
     },
     "execution_count": 6,
     "metadata": {},
     "output_type": "execute_result"
    }
   ],
   "source": [
    "x"
   ]
  },
  {
   "cell_type": "code",
   "execution_count": 7,
   "id": "ab8db14b",
   "metadata": {},
   "outputs": [],
   "source": [
    "numpy_x = x.data.numpy()"
   ]
  },
  {
   "cell_type": "code",
   "execution_count": 8,
   "id": "a3c7a31f",
   "metadata": {},
   "outputs": [
    {
     "data": {
      "text/plain": [
       "array([ 5.        ,  4.9497485 ,  4.8994975 ,  4.849246  ,  4.798995  ,\n",
       "        4.7487435 ,  4.6984925 ,  4.648241  ,  4.59799   ,  4.5477386 ,\n",
       "        4.4974875 ,  4.447236  ,  4.396985  ,  4.3467336 ,  4.2964826 ,\n",
       "        4.246231  ,  4.19598   ,  4.1457286 ,  4.0954776 ,  4.045226  ,\n",
       "        3.9949749 ,  3.9447236 ,  3.8944724 ,  3.844221  ,  3.7939699 ,\n",
       "        3.7437186 ,  3.6934674 ,  3.6432161 ,  3.5929646 ,  3.5427136 ,\n",
       "        3.4924622 ,  3.4422112 ,  3.3919597 ,  3.3417087 ,  3.2914572 ,\n",
       "        3.2412062 ,  3.1909547 ,  3.1407037 ,  3.0904522 ,  3.040201  ,\n",
       "        2.9899497 ,  2.9396985 ,  2.8894472 ,  2.839196  ,  2.7889447 ,\n",
       "        2.7386935 ,  2.6884422 ,  2.638191  ,  2.5879397 ,  2.5376885 ,\n",
       "        2.4874372 ,  2.437186  ,  2.3869348 ,  2.3366835 ,  2.286432  ,\n",
       "        2.2361808 ,  2.1859295 ,  2.1356783 ,  2.085427  ,  2.0351758 ,\n",
       "        1.9849246 ,  1.9346733 ,  1.8844221 ,  1.8341708 ,  1.7839196 ,\n",
       "        1.7336683 ,  1.6834171 ,  1.6331658 ,  1.5829146 ,  1.5326633 ,\n",
       "        1.4824121 ,  1.4321609 ,  1.3819096 ,  1.3316584 ,  1.2814071 ,\n",
       "        1.2311556 ,  1.1809044 ,  1.1306531 ,  1.0804019 ,  1.0301507 ,\n",
       "        0.9798994 ,  0.9296484 ,  0.8793969 ,  0.8291459 ,  0.7788944 ,\n",
       "        0.7286434 ,  0.67839193,  0.62814045,  0.57788944,  0.52763796,\n",
       "        0.47738695,  0.42713547,  0.37688446,  0.32663298,  0.27638197,\n",
       "        0.22613049,  0.17587948,  0.125628  ,  0.07537699,  0.0251255 ,\n",
       "       -0.0251255 , -0.07537699, -0.125628  , -0.17587948, -0.22613049,\n",
       "       -0.27638197, -0.32663298, -0.37688446, -0.42713547, -0.47738695,\n",
       "       -0.52763796, -0.57788944, -0.62814045, -0.67839193, -0.7286434 ,\n",
       "       -0.7788944 , -0.8291459 , -0.8793969 , -0.9296484 , -0.9798994 ,\n",
       "       -1.0301507 , -1.0804019 , -1.1306531 , -1.1809044 , -1.2311556 ,\n",
       "       -1.2814071 , -1.3316584 , -1.3819096 , -1.4321609 , -1.4824121 ,\n",
       "       -1.5326633 , -1.5829146 , -1.6331658 , -1.6834171 , -1.7336683 ,\n",
       "       -1.7839196 , -1.8341708 , -1.8844221 , -1.9346733 , -1.9849246 ,\n",
       "       -2.0351758 , -2.085427  , -2.1356783 , -2.1859295 , -2.2361808 ,\n",
       "       -2.286432  , -2.3366835 , -2.3869348 , -2.437186  , -2.4874372 ,\n",
       "       -2.5376885 , -2.5879397 , -2.638191  , -2.6884422 , -2.7386935 ,\n",
       "       -2.7889447 , -2.839196  , -2.8894472 , -2.9396985 , -2.9899497 ,\n",
       "       -3.040201  , -3.0904522 , -3.1407037 , -3.1909547 , -3.2412062 ,\n",
       "       -3.2914572 , -3.3417087 , -3.3919597 , -3.4422112 , -3.4924622 ,\n",
       "       -3.5427136 , -3.5929646 , -3.6432161 , -3.6934674 , -3.7437186 ,\n",
       "       -3.7939699 , -3.844221  , -3.8944724 , -3.9447236 , -3.9949749 ,\n",
       "       -4.045226  , -4.0954776 , -4.1457286 , -4.19598   , -4.246231  ,\n",
       "       -4.2964826 , -4.3467336 , -4.396985  , -4.447236  , -4.4974875 ,\n",
       "       -4.5477386 , -4.59799   , -4.648241  , -4.6984925 , -4.7487435 ,\n",
       "       -4.798995  , -4.849246  , -4.8994975 , -4.9497485 , -5.        ],\n",
       "      dtype=float32)"
      ]
     },
     "execution_count": 8,
     "metadata": {},
     "output_type": "execute_result"
    }
   ],
   "source": [
    "numpy_x"
   ]
  },
  {
   "cell_type": "markdown",
   "id": "b236ebaf",
   "metadata": {},
   "source": [
    "### ReLU ( Rectified Linear Unit ) :"
   ]
  },
  {
   "cell_type": "markdown",
   "id": "7a68ec64",
   "metadata": {},
   "source": [
    "The ReLU activation function replaces negative input values with zero while leaving positive values unchanged which introduces non-linearity and aids in avoiding vanishing gradient problems during neural network training."
   ]
  },
  {
   "cell_type": "code",
   "execution_count": 9,
   "id": "6fdd63cd",
   "metadata": {},
   "outputs": [
    {
     "data": {
      "image/png": "[encoded data removed]",
      "text/plain": [
       "<Figure size 432x288 with 1 Axes>"
      ]
     },
     "metadata": {
      "needs_background": "light"
     },
     "output_type": "display_data"
    }
   ],
   "source": [
    "y_relu = f.relu(x).data.numpy()\n",
    "\n",
    "plt.plot(numpy_x, y_relu, c = 'blue', label = 'relu')\n",
    "plt.ylim(-1, 5)\n",
    "plt.legend(loc = 'best')\n",
    "plt.show()"
   ]
  },
  {
   "cell_type": "markdown",
   "id": "880743fd",
   "metadata": {},
   "source": [
    "### Tanh Function :"
   ]
  },
  {
   "cell_type": "markdown",
   "id": "c64101bd",
   "metadata": {},
   "source": [
    "Tanh function transforms inputs to values between -1 and 1, introducing non-linearity and symmetry around zero. It's commonly used in neural networks for its bounded output range and suitability for certain architectures like recurrent neural networks (RNNs)."
   ]
  },
  {
   "cell_type": "code",
   "execution_count": 10,
   "id": "1b435071",
   "metadata": {},
   "outputs": [
    {
     "data": {
      "image/png": "[encoded data removed]",
      "text/plain": [
       "<Figure size 432x288 with 1 Axes>"
      ]
     },
     "metadata": {
      "needs_background": "light"
     },
     "output_type": "display_data"
    }
   ],
   "source": [
    "y_tanh = f.tanh(x).data.numpy()\n",
    "\n",
    "plt.plot(numpy_x, y_tanh, c = 'blue', label = 'tanh')\n",
    "plt.ylim(-1.2, 1.2)\n",
    "plt.legend(loc = 'best')\n",
    "plt.show()"
   ]
  },
  {
   "cell_type": "markdown",
   "id": "66bcc3aa",
   "metadata": {},
   "source": [
    "### Sigmoid Function :"
   ]
  },
  {
   "cell_type": "markdown",
   "id": "405b5279",
   "metadata": {},
   "source": [
    "Sigmoid function transforms input values to a range between 0 and 1, suitable for representing probabilities. The curve is S-shaped, with positive inputs mapping to values close to 1, negative inputs to values near 0, and inputs around zero to values near 0.5. It's particularly useful in binary classification tasks but can have vanishing gradient problems for extreme inputs."
   ]
  },
  {
   "cell_type": "code",
   "execution_count": 11,
   "id": "545532a7",
   "metadata": {},
   "outputs": [
    {
     "data": {
      "image/png": "[encoded data removed]",
      "text/plain": [
       "<Figure size 432x288 with 1 Axes>"
      ]
     },
     "metadata": {
      "needs_background": "light"
     },
     "output_type": "display_data"
    }
   ],
   "source": [
    "y_sigmoid = f.sigmoid(x).data.numpy()\n",
    "\n",
    "plt.plot(numpy_x, y_sigmoid, c = 'blue', label = 'sigmoid')\n",
    "plt.ylim(-0.2, 1.2)\n",
    "plt.legend(loc = 'best')\n",
    "plt.show()"
   ]
  },
  {
   "cell_type": "markdown",
   "id": "e2cd42b1",
   "metadata": {},
   "source": [
    "### Softplus Function :"
   ]
  },
  {
   "cell_type": "markdown",
   "id": "ea39aa68",
   "metadata": {},
   "source": [
    "\n",
    "Softplus function produces positive values by applying the natural logarithm to the exponential of the input plus one. It introduces non-linearity, resembles the ReLU function for positive inputs, and is often used when outputs don't need to be bounded."
   ]
  },
  {
   "cell_type": "code",
   "execution_count": 12,
   "id": "ac3f51df",
   "metadata": {},
   "outputs": [
    {
     "data": {
      "image/png": "[encoded data removed]",
      "text/plain": [
       "<Figure size 432x288 with 1 Axes>"
      ]
     },
     "metadata": {
      "needs_background": "light"
     },
     "output_type": "display_data"
    }
   ],
   "source": [
    "y_softplus = f.softplus(x).data.numpy()\n",
    "\n",
    "plt.plot(numpy_x, y_softplus, c = 'blue', label = 'softplus')\n",
    "plt.ylim(-0.2, 6)\n",
    "plt.legend(loc = 'best')\n",
    "plt.show()"
   ]
  },
  {
   "cell_type": "code",
   "execution_count": null,
   "id": "78a76229",
   "metadata": {},
   "outputs": [],
   "source": []
  }
 ],
 "metadata": {
  "kernelspec": {
   "display_name": "Python 3 (ipykernel)",
   "language": "python",
   "name": "python3"
  },
  "language_info": {
   "codemirror_mode": {
    "name": "ipython",
    "version": 3
   },
   "file_extension": ".py",
   "mimetype": "text/x-python",
   "name": "python",
   "nbconvert_exporter": "python",
   "pygments_lexer": "ipython3",
   "version": "3.10.9"
  }
 },
 "nbformat": 4,
 "nbformat_minor": 5
}
