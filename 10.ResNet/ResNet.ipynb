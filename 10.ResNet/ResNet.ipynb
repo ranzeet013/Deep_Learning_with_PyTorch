{
 "cells": [
  {
   "cell_type": "code",
   "execution_count": 1,
   "id": "43d446d2",
   "metadata": {},
   "outputs": [],
   "source": [
    "import torch.nn as nn"
   ]
  },
  {
   "cell_type": "markdown",
   "id": "5d0983c5",
   "metadata": {},
   "source": [
    "\n",
    "1. `BasicBlock` is a PyTorch neural network module representing a basic building block for deep learning models.\n",
    "\n",
    "2. `multiplier=1` is a class variable specifying the scaling factor for the number of output channels in the convolutional layers.\n",
    "\n",
    "3. The `__init__` method initializes the `BasicBlock` module, taking input channel count, desired output channel count, and an optional stride as parameters.\n",
    "\n",
    "4. `conv_layer1` is the first convolutional layer with 3x3 kernel, batch normalization, and ReLU activation.\n",
    "\n",
    "5. `conv_layer2` is the second convolutional layer with similar properties as `conv_layer1`.\n",
    "\n",
    "6. `res_connnection` is a residual connection initialized as an empty sequential container.\n",
    "\n",
    "7. Conditional check in `__init__` determines if the residual connection is needed based on stride and input channel count.\n",
    "\n",
    "8. The `forward` method computes the forward pass of the module by applying convolutions, batch normalization, and residual connections with ReLU activation, and returns the output."
   ]
  },
  {
   "cell_type": "code",
   "execution_count": 4,
   "id": "1cca60ad",
   "metadata": {},
   "outputs": [],
   "source": [
    "class BasicBlock(nn.Module):\n",
    "    multiplier=1\n",
    "    def __init__(self, input_num_planes, num_planes, strd = 1):\n",
    "        super(BasicBlock, self).__init__()\n",
    "        self.conv_layer1 = nn.Conv2d(in_channels = input_num_planes, out_channels = num_planes, kernel_size = 3, stride = stride, padding = 1, bias = False)\n",
    "        self.batch_norm1 = nn.BatchNorm2d(num_planes)\n",
    "        self.conv_layer2 = nn.Conv2d(in_channels = num_planes, out_channels = num_planes, kernel_size = 3, stride = 1, padding = 1, bias = False)\n",
    "        self.batch_norm2 = nn.BatchNorm2d(num_planes)\n",
    " \n",
    "        self.res_connnection = nn.Sequential()\n",
    "        if strd > 1 or input_num_planes != self.multiplier*num_planes:\n",
    "            self.res_connnection = nn.Sequential(\n",
    "                nn.Conv2d(in_channels = input_num_planes, out_channels = self.multiplier*num_planes, kernel_size = 1, stride = strd, bias = False),\n",
    "                nn.BatchNorm2d(self.multiplier*num_planes)\n",
    "            )\n",
    "    def forward(self, inp):\n",
    "        op = F.relu(self.batch_norm1(self.conv_layer1(inp)))\n",
    "        op = self.batch_norm2(self.conv_layer2(op))\n",
    "        op += self.res_connnection(inp)\n",
    "        op = F.relu(op)\n",
    "        return op"
   ]
  },
  {
   "cell_type": "code",
   "execution_count": null,
   "id": "74dd32a6",
   "metadata": {},
   "outputs": [],
   "source": []
  }
 ],
 "metadata": {
  "kernelspec": {
   "display_name": "Python 3 (ipykernel)",
   "language": "python",
   "name": "python3"
  },
  "language_info": {
   "codemirror_mode": {
    "name": "ipython",
    "version": 3
   },
   "file_extension": ".py",
   "mimetype": "text/x-python",
   "name": "python",
   "nbconvert_exporter": "python",
   "pygments_lexer": "ipython3",
   "version": "3.10.9"
  }
 },
 "nbformat": 4,
 "nbformat_minor": 5
}
