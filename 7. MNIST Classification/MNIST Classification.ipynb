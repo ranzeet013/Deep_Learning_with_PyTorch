{
 "cells": [
  {
   "cell_type": "markdown",
   "id": "43c8fb86",
   "metadata": {},
   "source": [
    "### Importing Libraries :"
   ]
  },
  {
   "cell_type": "markdown",
   "id": "5ea97641",
   "metadata": {},
   "source": [
    "The torch library is PyTorch's core module that handles tensor operations and computations, serving as the basis for creating neural networks. It offers tools for mathematical operations, GPU acceleration, and automatic differentiation, crucial for efficient model training."
   ]
  },
  {
   "cell_type": "code",
   "execution_count": 1,
   "id": "b175aa70",
   "metadata": {},
   "outputs": [],
   "source": [
    "import torch\n",
    "import torch.nn as nn\n",
    "import torch.optim as optim\n",
    "import torchvision\n",
    "import torchvision.transforms as transforms\n"
   ]
  },
  {
   "cell_type": "markdown",
   "id": "e573277a",
   "metadata": {},
   "source": [
    "### Preprocessing Data :"
   ]
  },
  {
   "cell_type": "markdown",
   "id": "3d680cbd",
   "metadata": {},
   "source": [
    "\n",
    "Preprocessing data involves cleaning, scaling, and transforming raw data to make it suitable for machine learning. It includes tasks like handling missing values, scaling features, converting text to numerical representations, and splitting data for training and testing. These steps ensure that the data is in a format that helps models learn effectively and make accurate predictions."
   ]
  },
  {
   "cell_type": "code",
   "execution_count": 2,
   "id": "ffbad51a",
   "metadata": {},
   "outputs": [
    {
     "name": "stdout",
     "output_type": "stream",
     "text": [
      "Downloading http://yann.lecun.com/exdb/mnist/train-images-idx3-ubyte.gz\n",
      "Downloading http://yann.lecun.com/exdb/mnist/train-images-idx3-ubyte.gz to ./data\\MNIST\\raw\\train-images-idx3-ubyte.gz\n"
     ]
    },
    {
     "name": "stderr",
     "output_type": "stream",
     "text": [
      "100%|██████████| 9912422/9912422 [00:03<00:00, 2584281.01it/s]\n"
     ]
    },
    {
     "name": "stdout",
     "output_type": "stream",
     "text": [
      "Extracting ./data\\MNIST\\raw\\train-images-idx3-ubyte.gz to ./data\\MNIST\\raw\n",
      "\n",
      "Downloading http://yann.lecun.com/exdb/mnist/train-labels-idx1-ubyte.gz\n",
      "Downloading http://yann.lecun.com/exdb/mnist/train-labels-idx1-ubyte.gz to ./data\\MNIST\\raw\\train-labels-idx1-ubyte.gz\n"
     ]
    },
    {
     "name": "stderr",
     "output_type": "stream",
     "text": [
      "100%|██████████| 28881/28881 [00:00<00:00, 12353221.89it/s]\n"
     ]
    },
    {
     "name": "stdout",
     "output_type": "stream",
     "text": [
      "Extracting ./data\\MNIST\\raw\\train-labels-idx1-ubyte.gz to ./data\\MNIST\\raw\n",
      "\n",
      "Downloading http://yann.lecun.com/exdb/mnist/t10k-images-idx3-ubyte.gz\n",
      "Downloading http://yann.lecun.com/exdb/mnist/t10k-images-idx3-ubyte.gz to ./data\\MNIST\\raw\\t10k-images-idx3-ubyte.gz\n"
     ]
    },
    {
     "name": "stderr",
     "output_type": "stream",
     "text": [
      "100%|██████████| 1648877/1648877 [00:00<00:00, 1857512.23it/s]\n"
     ]
    },
    {
     "name": "stdout",
     "output_type": "stream",
     "text": [
      "Extracting ./data\\MNIST\\raw\\t10k-images-idx3-ubyte.gz to ./data\\MNIST\\raw\n",
      "\n",
      "Downloading http://yann.lecun.com/exdb/mnist/t10k-labels-idx1-ubyte.gz\n",
      "Downloading http://yann.lecun.com/exdb/mnist/t10k-labels-idx1-ubyte.gz to ./data\\MNIST\\raw\\t10k-labels-idx1-ubyte.gz\n"
     ]
    },
    {
     "name": "stderr",
     "output_type": "stream",
     "text": [
      "100%|██████████| 4542/4542 [00:00<?, ?it/s]\n"
     ]
    },
    {
     "name": "stdout",
     "output_type": "stream",
     "text": [
      "Extracting ./data\\MNIST\\raw\\t10k-labels-idx1-ubyte.gz to ./data\\MNIST\\raw\n",
      "\n"
     ]
    }
   ],
   "source": [
    "transform = transforms.Compose([transforms.ToTensor(), transforms.Normalize((0.5,), (0.5,))])\n",
    "\n",
    "trainset = torchvision.datasets.MNIST(root='./data', train=True, download=True, transform=transform)\n",
    "trainloader = torch.utils.data.DataLoader(trainset, batch_size=64, shuffle=True)\n",
    "\n",
    "testset = torchvision.datasets.MNIST(root='./data', train=False, download=True, transform=transform)\n",
    "testloader = torch.utils.data.DataLoader(testset, batch_size=64, shuffle=False)\n"
   ]
  },
  {
   "cell_type": "markdown",
   "id": "cfba20e4",
   "metadata": {},
   "source": [
    "### Building Neural Net :"
   ]
  },
  {
   "cell_type": "markdown",
   "id": "f7ca50ea",
   "metadata": {},
   "source": [
    "Building a neural network involves designing its structure by selecting the type and number of layers, connecting them, and specifying activation functions. Then, weights and biases are initialized, and forward pass logic is implemented to transform input data into predictions. An appropriate loss function and optimizer are chosen for training. During training, the network learns by adjusting weights using backpropagation and optimization algorithms. Hyperparameters are tuned, and the model's performance is evaluated on validation and test sets. It's an iterative process that culminates in a trained model for making predictions."
   ]
  },
  {
   "cell_type": "code",
   "execution_count": 3,
   "id": "52dbfe9b",
   "metadata": {},
   "outputs": [],
   "source": [
    "class Net(nn.Module):\n",
    "    def __init__(self):\n",
    "        super(Net, self).__init__()\n",
    "        self.fc1 = nn.Linear(28 * 28, 128)\n",
    "        self.fc2 = nn.Linear(128, 64)\n",
    "        self.fc3 = nn.Linear(64, 10)\n",
    "    \n",
    "    def forward(self, x):\n",
    "        x = x.view(-1, 28 * 28)  \n",
    "        x = torch.relu(self.fc1(x))\n",
    "        x = torch.relu(self.fc2(x))\n",
    "        x = self.fc3(x)\n",
    "        return x\n",
    "\n",
    "net = Net()\n"
   ]
  },
  {
   "cell_type": "markdown",
   "id": "120696ca",
   "metadata": {},
   "source": [
    "### Optimizer And Loss Function :"
   ]
  },
  {
   "cell_type": "markdown",
   "id": "765965a4",
   "metadata": {},
   "source": [
    "An optimizer and a loss function are essential components in training machine learning models, including neural networks"
   ]
  },
  {
   "cell_type": "markdown",
   "id": "7265feb9",
   "metadata": {},
   "source": [
    "### Optimizer :"
   ]
  },
  {
   "cell_type": "markdown",
   "id": "57d0c723",
   "metadata": {},
   "source": [
    "Optimizer is an algorithm that adjusts the parameters (weights and biases) of a model in order to minimize the loss function. The goal is to find the set of parameters that make the model's predictions as accurate as possible. Different optimizers use various strategies to update these parameters based on the gradients of the loss function with respect to the parameters."
   ]
  },
  {
   "cell_type": "markdown",
   "id": "6673777a",
   "metadata": {},
   "source": [
    "### Loss Function :"
   ]
  },
  {
   "cell_type": "markdown",
   "id": "0340c10e",
   "metadata": {},
   "source": [
    "Loss function quantifies the difference between the predicted values of the model and the actual target values. It measures how well the model is performing and provides a single scalar value that needs to be minimized during training. "
   ]
  },
  {
   "cell_type": "code",
   "execution_count": 4,
   "id": "bebee860",
   "metadata": {},
   "outputs": [],
   "source": [
    "criterion = nn.CrossEntropyLoss()\n",
    "optimizer = optim.SGD(net.parameters(), lr=0.001)\n"
   ]
  },
  {
   "cell_type": "markdown",
   "id": "431fbef2",
   "metadata": {},
   "source": [
    "### Training :"
   ]
  },
  {
   "cell_type": "markdown",
   "id": "2a9493b0",
   "metadata": {},
   "source": [
    "Training in machine learning is the process of teaching a model to make accurate predictions. It involves feeding labeled data through the model, calculating prediction errors, and adjusting model parameters using optimization techniques to minimize these errors. The model's architecture and parameters are refined through multiple epochs, and its performance is validated and tuned."
   ]
  },
  {
   "cell_type": "code",
   "execution_count": 6,
   "id": "0474d6d2",
   "metadata": {},
   "outputs": [
    {
     "name": "stdout",
     "output_type": "stream",
     "text": [
      "Epoch 1, Loss: 2.2466693102423823\n",
      "Epoch 2, Loss: 2.049099540532525\n",
      "Epoch 3, Loss: 1.6304207826728252\n",
      "Epoch 4, Loss: 1.1459523334559092\n",
      "Epoch 5, Loss: 0.8421041763731157\n",
      "Epoch 6, Loss: 0.6821051721316157\n",
      "Epoch 7, Loss: 0.588607171133383\n",
      "Epoch 8, Loss: 0.5277386017000751\n",
      "Epoch 9, Loss: 0.4852283669274245\n",
      "Epoch 10, Loss: 0.45415462958596664\n",
      "Epoch 11, Loss: 0.430504785751356\n",
      "Epoch 12, Loss: 0.412068031458204\n",
      "Epoch 13, Loss: 0.39708147258328985\n",
      "Epoch 14, Loss: 0.3844177192494051\n",
      "Epoch 15, Loss: 0.3740076235711956\n",
      "Epoch 16, Loss: 0.36536563114761544\n",
      "Epoch 17, Loss: 0.35718757307319754\n",
      "Epoch 18, Loss: 0.3504421283949667\n",
      "Epoch 19, Loss: 0.3442639632106844\n",
      "Epoch 20, Loss: 0.33873800049299624\n"
     ]
    }
   ],
   "source": [
    "epochs = 20\n",
    "for epoch in range(epochs):  # epochs is the number of training iterations\n",
    "    running_loss = 0.0\n",
    "    for i, data in enumerate(trainloader, 0):\n",
    "        inputs, labels = data\n",
    "\n",
    "        optimizer.zero_grad()\n",
    "\n",
    "        outputs = net(inputs)\n",
    "        loss = criterion(outputs, labels)\n",
    "        loss.backward()\n",
    "        optimizer.step()\n",
    "\n",
    "        running_loss += loss.item()\n",
    "\n",
    "    print(f\"Epoch {epoch+1}, Loss: {running_loss / len(trainloader)}\")\n"
   ]
  },
  {
   "cell_type": "markdown",
   "id": "93bc0894",
   "metadata": {},
   "source": [
    "### Testing :"
   ]
  },
  {
   "cell_type": "markdown",
   "id": "524e708c",
   "metadata": {},
   "source": [
    "Testing in machine learning involves evaluating a trained model's performance on new data that it hasn't seen before. This is done by feeding the data through the model to make predictions and comparing those predictions with the actual values. Metrics like accuracy, precision, recall, and others are calculated to measure the model's performance."
   ]
  },
  {
   "cell_type": "code",
   "execution_count": 7,
   "id": "e81b8249",
   "metadata": {},
   "outputs": [
    {
     "name": "stdout",
     "output_type": "stream",
     "text": [
      "Accuracy: 90.39%\n"
     ]
    }
   ],
   "source": [
    "correct = 0\n",
    "total = 0\n",
    "\n",
    "with torch.no_grad():\n",
    "    for data in testloader:\n",
    "        images, labels = data\n",
    "        outputs = net(images)\n",
    "        _, predicted = torch.max(outputs.data, 1)\n",
    "        total += labels.size(0)\n",
    "        correct += (predicted == labels).sum().item()\n",
    "\n",
    "print(f\"Accuracy: {100 * correct / total}%\")\n"
   ]
  },
  {
   "cell_type": "code",
   "execution_count": null,
   "id": "d9604f90",
   "metadata": {},
   "outputs": [],
   "source": []
  }
 ],
 "metadata": {
  "kernelspec": {
   "display_name": "Python 3 (ipykernel)",
   "language": "python",
   "name": "python3"
  },
  "language_info": {
   "codemirror_mode": {
    "name": "ipython",
    "version": 3
   },
   "file_extension": ".py",
   "mimetype": "text/x-python",
   "name": "python",
   "nbconvert_exporter": "python",
   "pygments_lexer": "ipython3",
   "version": "3.11.3"
  }
 },
 "nbformat": 4,
 "nbformat_minor": 5
}
