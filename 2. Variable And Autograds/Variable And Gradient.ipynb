{
 "cells": [
  {
   "cell_type": "code",
   "execution_count": 1,
   "id": "d311b7db",
   "metadata": {},
   "outputs": [],
   "source": [
    "import torch\n",
    "from torch.autograd import Variable"
   ]
  },
  {
   "cell_type": "markdown",
   "id": "0b46e011",
   "metadata": {},
   "source": [
    "At first I will crear the 2x3 tensor using torch.Tensor"
   ]
  },
  {
   "cell_type": "code",
   "execution_count": 9,
   "id": "ec4f3759",
   "metadata": {},
   "outputs": [
    {
     "data": {
      "text/plain": [
       "tensor([[1.7763e+01, 7.1606e-43, 1.7761e+01],\n",
       "        [7.1606e-43, 1.7763e+01, 7.1606e-43]])"
      ]
     },
     "execution_count": 9,
     "metadata": {},
     "output_type": "execute_result"
    }
   ],
   "source": [
    "x_tensor = torch.Tensor(2, 3)\n",
    "x_tensor"
   ]
  },
  {
   "cell_type": "markdown",
   "id": "7c1d1bc2",
   "metadata": {},
   "source": [
    "Then creating the variable from the same tensor created above."
   ]
  },
  {
   "cell_type": "code",
   "execution_count": 10,
   "id": "43e47bdf",
   "metadata": {},
   "outputs": [
    {
     "data": {
      "text/plain": [
       "tensor([[1.7763e+01, 7.1606e-43, 1.7761e+01],\n",
       "        [7.1606e-43, 1.7763e+01, 7.1606e-43]])"
      ]
     },
     "execution_count": 10,
     "metadata": {},
     "output_type": "execute_result"
    }
   ],
   "source": [
    "x_variable = Variable(x_tensor)\n",
    "x_variable"
   ]
  },
  {
   "cell_type": "markdown",
   "id": "6e349077",
   "metadata": {},
   "source": [
    "### Variables of Variable :"
   ]
  },
  {
   "cell_type": "code",
   "execution_count": 11,
   "id": "4daeb25d",
   "metadata": {},
   "outputs": [
    {
     "data": {
      "text/plain": [
       "tensor([[1.7763e+01, 7.1606e-43, 1.7761e+01],\n",
       "        [7.1606e-43, 1.7763e+01, 7.1606e-43]])"
      ]
     },
     "execution_count": 11,
     "metadata": {},
     "output_type": "execute_result"
    }
   ],
   "source": [
    "x_variable.data"
   ]
  },
  {
   "cell_type": "code",
   "execution_count": 12,
   "id": "63856238",
   "metadata": {},
   "outputs": [
    {
     "name": "stdout",
     "output_type": "stream",
     "text": [
      "None\n"
     ]
    }
   ],
   "source": [
    "x_variable = x_variable.grad\n",
    "print(x_variable)"
   ]
  },
  {
   "cell_type": "markdown",
   "id": "3e094212",
   "metadata": {},
   "source": [
    " Converted into a variable x_variable with gradient tracking enabled (requires_grad set to True), and printing the output."
   ]
  },
  {
   "cell_type": "code",
   "execution_count": 22,
   "id": "2a45609e",
   "metadata": {},
   "outputs": [
    {
     "name": "stdout",
     "output_type": "stream",
     "text": [
      "False\n",
      "True\n"
     ]
    }
   ],
   "source": [
    "x_tensor = torch.FloatTensor(2, 3)\n",
    "print(x_tensor.requires_grad)\n",
    "\n",
    "x_variable = x_tensor.requires_grad_(True)\n",
    "print(x_variable.requires_grad)"
   ]
  },
  {
   "cell_type": "markdown",
   "id": "783f0ed3",
   "metadata": {},
   "source": [
    "### Graph And Gradient :"
   ]
  },
  {
   "cell_type": "code",
   "execution_count": 23,
   "id": "df7290ef",
   "metadata": {},
   "outputs": [
    {
     "name": "stderr",
     "output_type": "stream",
     "text": [
      "C:\\Users\\DELL\\AppData\\Local\\Temp\\ipykernel_3124\\1947421667.py:1: UserWarning: volatile was removed and now has no effect. Use `with torch.no_grad():` instead.\n",
      "  x_variable = Variable(x_tensor,volatile=True)\n",
      "C:\\Users\\DELL\\AppData\\Local\\Temp\\ipykernel_3124\\1947421667.py:2: UserWarning: volatile was removed (Variable.volatile is always False)\n",
      "  x_variable.grad, x_variable.requires_grad, x_variable.volatile\n"
     ]
    },
    {
     "data": {
      "text/plain": [
       "(None, False, False)"
      ]
     },
     "execution_count": 23,
     "metadata": {},
     "output_type": "execute_result"
    }
   ],
   "source": [
    "x_variable = Variable(x_tensor,volatile=True)\n",
    "x_variable.grad, x_variable.requires_grad, x_variable.volatile"
   ]
  },
  {
   "cell_type": "markdown",
   "id": "33cb8b63",
   "metadata": {},
   "source": [
    "I will create a 2x3 tensor x with gradient tracking and calculates the element-wise square and linear terms to form tensor y, and then constructs tensor z with linear transformations of y and returns a tuple of Boolean values indicating gradient tracking for tensors x, y, and z."
   ]
  },
  {
   "cell_type": "code",
   "execution_count": 20,
   "id": "6035d750",
   "metadata": {},
   "outputs": [
    {
     "data": {
      "text/plain": [
       "(True, True, True)"
      ]
     },
     "execution_count": 20,
     "metadata": {},
     "output_type": "execute_result"
    }
   ],
   "source": [
    "x = Variable(torch.FloatTensor(2, 3),requires_grad=True)\n",
    "y = x**2 + 4*x\n",
    "z = 2*y +3\n",
    "\n",
    "x.requires_grad,y.requires_grad,z.requires_grad"
   ]
  },
  {
   "cell_type": "markdown",
   "id": "f32df1c7",
   "metadata": {},
   "source": [
    "The .grad attributes of tensors x, y, and z show the calculated gradients, with only x having non-None values."
   ]
  },
  {
   "cell_type": "code",
   "execution_count": 21,
   "id": "6406a213",
   "metadata": {},
   "outputs": [
    {
     "name": "stdout",
     "output_type": "stream",
     "text": [
      "tensor([[0.0000e+00, 0.0000e+00, 1.6816e-43],\n",
      "        [0.0000e+00, 2.6929e+00, 5.7285e-42]])\n"
     ]
    },
    {
     "name": "stderr",
     "output_type": "stream",
     "text": [
      "C:\\Users\\DELL\\AppData\\Local\\Temp\\ipykernel_3124\\3882079082.py:5: UserWarning: The .grad attribute of a Tensor that is not a leaf Tensor is being accessed. Its .grad attribute won't be populated during autograd.backward(). If you indeed want the .grad field to be populated for a non-leaf Tensor, use .retain_grad() on the non-leaf Tensor. If you access the non-leaf Tensor by mistake, make sure you access the leaf Tensor instead. See github.com/pytorch/pytorch/pull/30531 for more informations. (Triggered internally at aten\\src\\ATen/core/TensorBody.h:491.)\n",
      "  y.grad,z.grad\n"
     ]
    },
    {
     "data": {
      "text/plain": [
       "(None, None)"
      ]
     },
     "execution_count": 21,
     "metadata": {},
     "output_type": "execute_result"
    }
   ],
   "source": [
    "gradient = torch.FloatTensor(2, 3)\n",
    "z.backward(gradient)\n",
    "\n",
    "print(x.grad)\n",
    "y.grad,z.grad"
   ]
  },
  {
   "cell_type": "code",
   "execution_count": null,
   "id": "76171cc8",
   "metadata": {},
   "outputs": [],
   "source": []
  }
 ],
 "metadata": {
  "kernelspec": {
   "display_name": "Python 3 (ipykernel)",
   "language": "python",
   "name": "python3"
  },
  "language_info": {
   "codemirror_mode": {
    "name": "ipython",
    "version": 3
   },
   "file_extension": ".py",
   "mimetype": "text/x-python",
   "name": "python",
   "nbconvert_exporter": "python",
   "pygments_lexer": "ipython3",
   "version": "3.10.9"
  }
 },
 "nbformat": 4,
 "nbformat_minor": 5
}
