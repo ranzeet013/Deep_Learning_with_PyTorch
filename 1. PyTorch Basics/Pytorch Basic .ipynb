{
 "cells": [
  {
   "cell_type": "markdown",
   "id": "3628ffff",
   "metadata": {},
   "source": [
    "## Pytorch :"
   ]
  },
  {
   "cell_type": "markdown",
   "id": "3e121799",
   "metadata": {},
   "source": [
    "PyTorch is an open-source machine learning framework that excels in building and training deep learning models. Its dynamic computation graph, automatic differentiation, and GPU support make it popular among researchers and developers. It provides tools for creating tensors, defining neural networks, loading data, and optimizing models."
   ]
  },
  {
   "cell_type": "code",
   "execution_count": 1,
   "id": "74ff18f3",
   "metadata": {},
   "outputs": [],
   "source": [
    "import torch"
   ]
  },
  {
   "cell_type": "markdown",
   "id": "7a1d54ca",
   "metadata": {},
   "source": [
    "### Tensors :"
   ]
  },
  {
   "cell_type": "markdown",
   "id": "d350d86d",
   "metadata": {},
   "source": [
    " Tensors are multi-dimensional arrays similar to NumPy arrays but with additional capabilities optimized for deep learning. Tensors in PyTorch are the fundamental building blocks for creating and manipulating data in the framework."
   ]
  },
  {
   "cell_type": "markdown",
   "id": "981c0c29",
   "metadata": {},
   "source": [
    "### Tensor Basic :"
   ]
  },
  {
   "cell_type": "markdown",
   "id": "d19a2bd0",
   "metadata": {},
   "source": [
    "'torch.tensor' is used for creating and manipulating multi-dimensional arrays (tensors) used in deep learning."
   ]
  },
  {
   "cell_type": "code",
   "execution_count": 3,
   "id": "0c1b78a4",
   "metadata": {},
   "outputs": [
    {
     "name": "stdout",
     "output_type": "stream",
     "text": [
      "tensor([[9.2755e-39, 9.3673e-39, 9.9184e-39],\n",
      "        [2.9389e-39, 1.0286e-38, 9.0919e-39]])\n"
     ]
    }
   ],
   "source": [
    "x = torch.Tensor(2, 3)\n",
    "print(x)"
   ]
  },
  {
   "cell_type": "code",
   "execution_count": 4,
   "id": "eb3f14ac",
   "metadata": {},
   "outputs": [
    {
     "name": "stdout",
     "output_type": "stream",
     "text": [
      "Tensor size : torch.Size([2, 3])\n",
      "Tensor type : torch.FloatTensor\n"
     ]
    }
   ],
   "source": [
    "print(\"Tensor size :\", x.size())\n",
    "print(\"Tensor type :\", x.type())"
   ]
  },
  {
   "cell_type": "markdown",
   "id": "4b706fcb",
   "metadata": {},
   "source": [
    "### Tensor With Characterstics :"
   ]
  },
  {
   "cell_type": "markdown",
   "id": "9c133357",
   "metadata": {},
   "source": [
    "torch.zeros creates a tensor filled with zeros of a specified size."
   ]
  },
  {
   "cell_type": "code",
   "execution_count": 5,
   "id": "38f0e548",
   "metadata": {},
   "outputs": [
    {
     "name": "stdout",
     "output_type": "stream",
     "text": [
      "tensor([[0., 0., 0.],\n",
      "        [0., 0., 0.]])\n"
     ]
    }
   ],
   "source": [
    "x = torch.zeros(2, 3)\n",
    "print(x)"
   ]
  },
  {
   "cell_type": "code",
   "execution_count": 6,
   "id": "c4a306ee",
   "metadata": {},
   "outputs": [
    {
     "name": "stdout",
     "output_type": "stream",
     "text": [
      "Tensor size: torch.Size([2, 3])\n",
      "Temsor type: torch.FloatTensor\n"
     ]
    }
   ],
   "source": [
    "print(\"Tensor size:\", x.size())\n",
    "print(\"Temsor type:\", x.type())"
   ]
  },
  {
   "cell_type": "code",
   "execution_count": 9,
   "id": "8f2a871b",
   "metadata": {},
   "outputs": [
    {
     "name": "stdout",
     "output_type": "stream",
     "text": [
      "tensor([[0, 0, 0],\n",
      "        [0, 0, 0]], dtype=torch.int32)\n"
     ]
    }
   ],
   "source": [
    "x = torch.zeros(2,3, dtype=torch.int32)\n",
    "print(x)"
   ]
  },
  {
   "cell_type": "code",
   "execution_count": 10,
   "id": "d5d12107",
   "metadata": {},
   "outputs": [
    {
     "name": "stdout",
     "output_type": "stream",
     "text": [
      "Torch size: torch.Size([2, 3])\n",
      "Torch typr: torch.IntTensor\n"
     ]
    }
   ],
   "source": [
    "print(\"Torch size:\", x.size())\n",
    "print(\"Torch typr:\", x.type())"
   ]
  },
  {
   "cell_type": "markdown",
   "id": "cea0b0ae",
   "metadata": {},
   "source": [
    "torch.ones generates a tensor filled with ones of a specified size."
   ]
  },
  {
   "cell_type": "code",
   "execution_count": 11,
   "id": "d29c2c67",
   "metadata": {},
   "outputs": [
    {
     "name": "stdout",
     "output_type": "stream",
     "text": [
      "tensor([[1., 1., 1.],\n",
      "        [1., 1., 1.]])\n"
     ]
    }
   ],
   "source": [
    "x = torch.ones(2, 3)\n",
    "print(x)"
   ]
  },
  {
   "cell_type": "code",
   "execution_count": 12,
   "id": "37d9d31c",
   "metadata": {},
   "outputs": [
    {
     "name": "stdout",
     "output_type": "stream",
     "text": [
      "Torch size: torch.Size([2, 3])\n",
      "Torch type: torch.FloatTensor\n"
     ]
    }
   ],
   "source": [
    "print(\"Torch size:\", x.size())\n",
    "print(\"Torch type:\", x.type())"
   ]
  },
  {
   "cell_type": "markdown",
   "id": "8a95dac8",
   "metadata": {},
   "source": [
    "\n",
    "torch.rand produces a tensor with random values between 0 and 1 of a specified size."
   ]
  },
  {
   "cell_type": "code",
   "execution_count": 13,
   "id": "d1f3f26a",
   "metadata": {},
   "outputs": [
    {
     "name": "stdout",
     "output_type": "stream",
     "text": [
      "tensor([[0.9499, 0.3418, 0.2776],\n",
      "        [0.2030, 0.5897, 0.3446]])\n"
     ]
    }
   ],
   "source": [
    "x = torch.rand(2, 3)\n",
    "print(x)"
   ]
  },
  {
   "cell_type": "code",
   "execution_count": 14,
   "id": "06660f1d",
   "metadata": {},
   "outputs": [
    {
     "name": "stdout",
     "output_type": "stream",
     "text": [
      "Tensor type: torch.FloatTensor\n",
      "Tensor size torch.Size([2, 3])\n"
     ]
    }
   ],
   "source": [
    "print(\"Tensor type:\", x.type())\n",
    "print(\"Tensor size\", x.size())"
   ]
  },
  {
   "cell_type": "markdown",
   "id": "085ffa59",
   "metadata": {},
   "source": [
    "torch.randn generates a tensor with random values drawn from a standard normal distribution (mean 0, standard deviation 1) of a specified size."
   ]
  },
  {
   "cell_type": "code",
   "execution_count": 15,
   "id": "bd1a85df",
   "metadata": {},
   "outputs": [
    {
     "name": "stdout",
     "output_type": "stream",
     "text": [
      "tensor([[-0.2270, -1.1953, -0.3041],\n",
      "        [ 0.6390,  1.2507, -0.3373]])\n",
      "Tensor size torch.Size([2, 3])\n",
      "Tensor type: torch.FloatTensor\n"
     ]
    }
   ],
   "source": [
    "x = torch.randn(2, 3)\n",
    "print(x)\n",
    "print('Tensor size', x.size())\n",
    "print('Tensor type:', x.type())"
   ]
  },
  {
   "cell_type": "markdown",
   "id": "57ce23be",
   "metadata": {},
   "source": [
    "torch.eye creates an identity matrix as a tensor with ones on the diagonal and zeros elsewhere, of a specified size."
   ]
  },
  {
   "cell_type": "code",
   "execution_count": 17,
   "id": "e6c7ed89",
   "metadata": {},
   "outputs": [
    {
     "name": "stdout",
     "output_type": "stream",
     "text": [
      "tensor([[1., 0., 0.],\n",
      "        [0., 1., 0.]])\n",
      "Tensor size: torch.Size([2, 3])\n",
      "Tensor type: torch.FloatTensor\n"
     ]
    }
   ],
   "source": [
    "x = torch.eye(2, 3)\n",
    "print(x)\n",
    "print(\"Tensor size:\", x.size())\n",
    "print(\"Tensor type:\", x.type())"
   ]
  },
  {
   "cell_type": "markdown",
   "id": "ee342845",
   "metadata": {},
   "source": [
    "\n",
    "torch.arange generates a tensor with a sequence of values from start to end with a specified step size."
   ]
  },
  {
   "cell_type": "code",
   "execution_count": 19,
   "id": "8fe16449",
   "metadata": {},
   "outputs": [
    {
     "name": "stdout",
     "output_type": "stream",
     "text": [
      "tensor([2])\n",
      "Tensor size: torch.Size([1])\n",
      "Tensor type: torch.LongTensor\n"
     ]
    }
   ],
   "source": [
    "x = torch.arange(2, 3)\n",
    "print(x)\n",
    "print(\"Tensor size:\", x.size())\n",
    "print(\"Tensor type:\", x.type())"
   ]
  },
  {
   "cell_type": "markdown",
   "id": "037971dc",
   "metadata": {},
   "source": [
    "torch.tensor is a constructor that creates a new PyTorch tensor from a given data source, like a list or an array-like structure."
   ]
  },
  {
   "cell_type": "code",
   "execution_count": 20,
   "id": "bf25da2f",
   "metadata": {},
   "outputs": [
    {
     "name": "stdout",
     "output_type": "stream",
     "text": [
      "tensor([[0.0000, 0.0000, 0.0000],\n",
      "        [0.0000, 0.0000, 0.3446]])\n",
      "Tensor size: torch.Size([2, 3])\n",
      "Tensor type: torch.FloatTensor\n"
     ]
    }
   ],
   "source": [
    "x = torch.Tensor(2, 3)\n",
    "print(x)\n",
    "print(\"Tensor size:\", x.size())\n",
    "print(\"Tensor type:\", x.type())"
   ]
  },
  {
   "cell_type": "markdown",
   "id": "a4f0b97e",
   "metadata": {},
   "source": [
    "Create a tensor of data type float"
   ]
  },
  {
   "cell_type": "code",
   "execution_count": 23,
   "id": "09d78bf8",
   "metadata": {},
   "outputs": [
    {
     "name": "stdout",
     "output_type": "stream",
     "text": [
      "tensor([[0.0000e+00, 0.0000e+00, 1.8754e+28],\n",
      "        [3.2175e+21, 2.6081e+20, 1.3029e-11]])\n",
      "Tensor size: torch.Size([2, 3])\n",
      "Tensor type: torch.FloatTensor\n"
     ]
    }
   ],
   "source": [
    "x = torch.FloatTensor(2, 3)\n",
    "print(x)\n",
    "print(\"Tensor size:\", x.size())\n",
    "print(\"Tensor type:\", x.type())"
   ]
  },
  {
   "cell_type": "markdown",
   "id": "e7988ee2",
   "metadata": {},
   "source": [
    "Creates a tensor of data type int"
   ]
  },
  {
   "cell_type": "code",
   "execution_count": 24,
   "id": "2aa337e6",
   "metadata": {},
   "outputs": [
    {
     "name": "stdout",
     "output_type": "stream",
     "text": [
      "tensor([[          0,           0,           0],\n",
      "        [          0,           0, -1095978729]], dtype=torch.int32)\n",
      "Tensor Type :  torch.IntTensor\n",
      "Tensor Size :  torch.Size([2, 3])\n"
     ]
    }
   ],
   "source": [
    "x = torch.IntTensor(2,3)\n",
    "print(x)\n",
    "print(\"Tensor Type : \", x.type())\n",
    "print(\"Tensor Size : \", x.size())"
   ]
  },
  {
   "cell_type": "markdown",
   "id": "97600802",
   "metadata": {},
   "source": [
    "### Tensor And NUmpy :"
   ]
  },
  {
   "cell_type": "markdown",
   "id": "14fbf8c4",
   "metadata": {},
   "source": [
    "NumPy is a Python library for numerical computations, providing support for multi-dimensional arrays (tensors), mathematical functions, and operations, making it essential for scientific computing and data analysis."
   ]
  },
  {
   "cell_type": "code",
   "execution_count": 25,
   "id": "85374dea",
   "metadata": {},
   "outputs": [],
   "source": [
    "import numpy as np"
   ]
  },
  {
   "cell_type": "code",
   "execution_count": 29,
   "id": "56a0ac14",
   "metadata": {},
   "outputs": [
    {
     "name": "stdout",
     "output_type": "stream",
     "text": [
      "[[1 2 3]\n",
      " [1 2 3]] <class 'numpy.ndarray'>\n"
     ]
    }
   ],
   "source": [
    "x = np.array([[1, 2, 3], [1, 2, 3]])\n",
    "print(x, type(x))"
   ]
  },
  {
   "cell_type": "markdown",
   "id": "9a1bf5dc",
   "metadata": {},
   "source": [
    "torch.from_numpy creates a PyTorch tensor from a NumPy array "
   ]
  },
  {
   "cell_type": "code",
   "execution_count": 30,
   "id": "947ae104",
   "metadata": {},
   "outputs": [
    {
     "name": "stdout",
     "output_type": "stream",
     "text": [
      "tensor([[1, 2, 3],\n",
      "        [1, 2, 3]], dtype=torch.int32)\n",
      "Tensor size : torch.Size([2, 3])\n",
      "Tensor type : torch.IntTensor\n"
     ]
    }
   ],
   "source": [
    "x = torch.from_numpy(x)\n",
    "print(x)\n",
    "print(\"Tensor size :\", x.size())\n",
    "print(\"Tensor type :\", x.type())"
   ]
  },
  {
   "cell_type": "markdown",
   "id": "30621b65",
   "metadata": {},
   "source": [
    "### Tensor Slicing :"
   ]
  },
  {
   "cell_type": "markdown",
   "id": "1c2ef4cd",
   "metadata": {},
   "source": [
    "Tensor slicing involves extracting a portion of a tensor using indexing. It's a way to access specific elements, rows, columns, or sub-tensors."
   ]
  },
  {
   "cell_type": "code",
   "execution_count": 35,
   "id": "9a989aec",
   "metadata": {},
   "outputs": [
    {
     "name": "stdout",
     "output_type": "stream",
     "text": [
      "tensor([[ 1.,  2.,  3.,  4.],\n",
      "        [ 5.,  6.,  7.,  8.],\n",
      "        [ 9., 10., 11., 12.]])\n",
      "Tensor size: torch.Size([3, 4])\n",
      "Tensor type: torch.FloatTensor\n"
     ]
    }
   ],
   "source": [
    "x = torch.Tensor([[1, 2, 3, 4], [5, 6, 7, 8], [9, 10, 11, 12]])\n",
    "print(x)\n",
    "print('Tensor size:', x.size())\n",
    "print('Tensor type:', x.type())"
   ]
  },
  {
   "cell_type": "markdown",
   "id": "5acb7ee2",
   "metadata": {},
   "source": [
    "Slice all dimensions of a tensor x in one line, effectively selecting all elements."
   ]
  },
  {
   "cell_type": "code",
   "execution_count": 36,
   "id": "871428e3",
   "metadata": {},
   "outputs": [
    {
     "data": {
      "text/plain": [
       "tensor([[ 1.,  2.,  3.,  4.],\n",
       "        [ 5.,  6.,  7.,  8.],\n",
       "        [ 9., 10., 11., 12.]])"
      ]
     },
     "execution_count": 36,
     "metadata": {},
     "output_type": "execute_result"
    }
   ],
   "source": [
    "x[:, :]"
   ]
  },
  {
   "cell_type": "markdown",
   "id": "2bb3f3f2",
   "metadata": {},
   "source": [
    "Selects all rows and all columns starting from the second column of the tensor x in one line."
   ]
  },
  {
   "cell_type": "code",
   "execution_count": 38,
   "id": "15b55c3c",
   "metadata": {},
   "outputs": [
    {
     "data": {
      "text/plain": [
       "tensor([[ 2.,  3.,  4.],\n",
       "        [ 6.,  7.,  8.],\n",
       "        [10., 11., 12.]])"
      ]
     },
     "execution_count": 38,
     "metadata": {},
     "output_type": "execute_result"
    }
   ],
   "source": [
    "x[:, 1:]"
   ]
  },
  {
   "cell_type": "markdown",
   "id": "b5afa343",
   "metadata": {},
   "source": [
    "Selects all rows and all columns starting from the third column of the tensor x."
   ]
  },
  {
   "cell_type": "code",
   "execution_count": 39,
   "id": "611474b6",
   "metadata": {},
   "outputs": [
    {
     "data": {
      "text/plain": [
       "tensor([[ 3.,  4.],\n",
       "        [ 7.,  8.],\n",
       "        [11., 12.]])"
      ]
     },
     "execution_count": 39,
     "metadata": {},
     "output_type": "execute_result"
    }
   ],
   "source": [
    "x[:, 2:]"
   ]
  },
  {
   "cell_type": "markdown",
   "id": "37d6310c",
   "metadata": {},
   "source": [
    "selects a sub-tensor from the tensor x, excluding the first row and including columns 1 and 2."
   ]
  },
  {
   "cell_type": "code",
   "execution_count": 41,
   "id": "c88479eb",
   "metadata": {},
   "outputs": [
    {
     "data": {
      "text/plain": [
       "tensor([[ 6.,  7.],\n",
       "        [10., 11.]])"
      ]
     },
     "execution_count": 41,
     "metadata": {},
     "output_type": "execute_result"
    }
   ],
   "source": [
    "x[1:, 1:3]"
   ]
  },
  {
   "cell_type": "markdown",
   "id": "ba947f7d",
   "metadata": {},
   "source": [
    "torch.split is used to split a tensor into multiple chunks along a specified dimension."
   ]
  },
  {
   "cell_type": "code",
   "execution_count": 49,
   "id": "a4311889",
   "metadata": {},
   "outputs": [
    {
     "name": "stdout",
     "output_type": "stream",
     "text": [
      "(tensor([[1., 2., 3., 4.]]), tensor([[5., 6., 7., 8.]]), tensor([[ 9., 10., 11., 12.]]))\n"
     ]
    }
   ],
   "source": [
    "x_rows = torch.split(x, split_size_or_sections=1, dim=0)\n",
    "print(x_rows)"
   ]
  },
  {
   "cell_type": "code",
   "execution_count": 42,
   "id": "1fbac081",
   "metadata": {},
   "outputs": [
    {
     "name": "stdout",
     "output_type": "stream",
     "text": [
      "(tensor([[ 1.,  2.],\n",
      "        [ 5.,  6.],\n",
      "        [ 9., 10.]]), tensor([[ 3.,  4.],\n",
      "        [ 7.,  8.],\n",
      "        [11., 12.]]))\n"
     ]
    }
   ],
   "source": [
    "x_cols = torch.split(x, split_size_or_sections=2, dim=1)\n",
    "print(x_cols)"
   ]
  },
  {
   "cell_type": "code",
   "execution_count": 43,
   "id": "ed1704f2",
   "metadata": {},
   "outputs": [
    {
     "data": {
      "text/plain": [
       "(tensor([[ 1.,  2.],\n",
       "         [ 5.,  6.],\n",
       "         [ 9., 10.]]),\n",
       " tensor([[ 3.,  4.],\n",
       "         [ 7.,  8.],\n",
       "         [11., 12.]]))"
      ]
     },
     "execution_count": 43,
     "metadata": {},
     "output_type": "execute_result"
    }
   ],
   "source": [
    "torch.chunk(x, chunks=2, dim=1)"
   ]
  },
  {
   "cell_type": "code",
   "execution_count": 44,
   "id": "aaedfa6e",
   "metadata": {},
   "outputs": [
    {
     "data": {
      "text/plain": [
       "tensor([ 2.,  5., 10.])"
      ]
     },
     "execution_count": 44,
     "metadata": {},
     "output_type": "execute_result"
    }
   ],
   "source": [
    "torch.masked_select(x_cols[0], torch.BoolTensor([[0,1],[1,0],[0,1]]).bool())"
   ]
  },
  {
   "cell_type": "markdown",
   "id": "f3da7a7a",
   "metadata": {},
   "source": [
    "### Tensor Merging :"
   ]
  },
  {
   "cell_type": "markdown",
   "id": "ab462dc0",
   "metadata": {},
   "source": [
    "Tensor merging refers to combining multiple tensors into a single tensor, typically along a specified dimension or using a concatenation operation."
   ]
  },
  {
   "cell_type": "markdown",
   "id": "4f5f37bc",
   "metadata": {},
   "source": [
    "torch.cat concatenates a sequence of tensors along a specified dimension"
   ]
  },
  {
   "cell_type": "code",
   "execution_count": 50,
   "id": "804b7341",
   "metadata": {},
   "outputs": [
    {
     "name": "stdout",
     "output_type": "stream",
     "text": [
      "tensor([[ 1.,  2.,  3.,  4.],\n",
      "        [ 5.,  6.,  7.,  8.],\n",
      "        [ 9., 10., 11., 12.]])\n"
     ]
    }
   ],
   "source": [
    "torch.cat(x_rows, dim = 0)\n",
    "print(x)"
   ]
  },
  {
   "cell_type": "code",
   "execution_count": 51,
   "id": "643f849f",
   "metadata": {},
   "outputs": [
    {
     "data": {
      "text/plain": [
       "tensor([[ 1.,  2.,  3.,  4.,  5.,  6.,  7.,  8.,  9., 10., 11., 12.]])"
      ]
     },
     "execution_count": 51,
     "metadata": {},
     "output_type": "execute_result"
    }
   ],
   "source": [
    "torch.cat(x_rows, dim=1)"
   ]
  },
  {
   "cell_type": "markdown",
   "id": "92c912c5",
   "metadata": {},
   "source": [
    "torch.stack creates a new tensor by stacking a sequence of tensors along a new dimension in one line."
   ]
  },
  {
   "cell_type": "code",
   "execution_count": 52,
   "id": "1a8427ba",
   "metadata": {},
   "outputs": [
    {
     "name": "stdout",
     "output_type": "stream",
     "text": [
      "tensor([[[ 1.,  2.],\n",
      "         [ 5.,  6.],\n",
      "         [ 9., 10.]],\n",
      "\n",
      "        [[ 3.,  4.],\n",
      "         [ 7.,  8.],\n",
      "         [11., 12.]]])\n"
     ]
    }
   ],
   "source": [
    "x_new = torch.stack(x_cols, dim=0)\n",
    "print(x_new)"
   ]
  },
  {
   "cell_type": "markdown",
   "id": "90431b36",
   "metadata": {},
   "source": [
    "### Tensor Reshaping :"
   ]
  },
  {
   "cell_type": "code",
   "execution_count": 53,
   "id": "53195348",
   "metadata": {},
   "outputs": [
    {
     "name": "stdout",
     "output_type": "stream",
     "text": [
      "tensor([[ 1.,  2.,  3.,  4.],\n",
      "        [ 5.,  6.,  7.,  8.],\n",
      "        [ 9., 10., 11., 12.]])\n"
     ]
    }
   ],
   "source": [
    "x = torch.Tensor([[1,2,3,4],[5,6,7,8],[9,10,11,12]])\n",
    "print(x)"
   ]
  },
  {
   "cell_type": "markdown",
   "id": "6a0d893f",
   "metadata": {},
   "source": [
    "torch.view views the tensor in specified rows an columns"
   ]
  },
  {
   "cell_type": "code",
   "execution_count": 54,
   "id": "70a72989",
   "metadata": {},
   "outputs": [
    {
     "data": {
      "text/plain": [
       "tensor([[ 1.,  2.,  3.],\n",
       "        [ 4.,  5.,  6.],\n",
       "        [ 7.,  8.,  9.],\n",
       "        [10., 11., 12.]])"
      ]
     },
     "execution_count": 54,
     "metadata": {},
     "output_type": "execute_result"
    }
   ],
   "source": [
    "x.view(4, 3)"
   ]
  },
  {
   "cell_type": "code",
   "execution_count": 55,
   "id": "aa67ed67",
   "metadata": {},
   "outputs": [
    {
     "data": {
      "text/plain": [
       "tensor([[ 1.,  2.],\n",
       "        [ 3.,  4.],\n",
       "        [ 5.,  6.],\n",
       "        [ 7.,  8.],\n",
       "        [ 9., 10.],\n",
       "        [11., 12.]])"
      ]
     },
     "execution_count": 55,
     "metadata": {},
     "output_type": "execute_result"
    }
   ],
   "source": [
    "x.view(-1, 2)"
   ]
  },
  {
   "cell_type": "code",
   "execution_count": 56,
   "id": "30294bdd",
   "metadata": {},
   "outputs": [
    {
     "data": {
      "text/plain": [
       "tensor([[[ 1.,  2.,  3.,  4.,  5.,  6.]],\n",
       "\n",
       "        [[ 7.,  8.,  9., 10., 11., 12.]]])"
      ]
     },
     "execution_count": 56,
     "metadata": {},
     "output_type": "execute_result"
    }
   ],
   "source": [
    "x.view(2, 1, -1)"
   ]
  },
  {
   "cell_type": "code",
   "execution_count": 57,
   "id": "4deb67cd",
   "metadata": {},
   "outputs": [
    {
     "data": {
      "text/plain": [
       "tensor([[ 1.,  2.,  3.,  4.,  5.,  6.],\n",
       "        [ 7.,  8.,  9., 10., 11., 12.]])"
      ]
     },
     "execution_count": 57,
     "metadata": {},
     "output_type": "execute_result"
    }
   ],
   "source": [
    "x.view(2, 1, -1).squeeze()"
   ]
  },
  {
   "cell_type": "code",
   "execution_count": 58,
   "id": "07ea6b98",
   "metadata": {},
   "outputs": [
    {
     "data": {
      "text/plain": [
       "tensor([[[ 1.,  2.,  3.,  4.,  5.,  6.]],\n",
       "\n",
       "        [[ 7.,  8.,  9., 10., 11., 12.]]])"
      ]
     },
     "execution_count": 58,
     "metadata": {},
     "output_type": "execute_result"
    }
   ],
   "source": [
    "x.view(2, 1, -1).squeeze().unsqueeze(dim=1)"
   ]
  },
  {
   "cell_type": "markdown",
   "id": "4c519f5d",
   "metadata": {},
   "source": [
    "### Tensor Calculation :"
   ]
  },
  {
   "cell_type": "markdown",
   "id": "a04ebc01",
   "metadata": {},
   "source": [
    "Tensor calculations involve performing various mathematical operations, such as addition, subtraction, multiplication, division, and more, on tensors. These operations can be element-wise or involve operations between entire tensors, often used in mathematical modeling, machine learning, and scientific computing."
   ]
  },
  {
   "cell_type": "code",
   "execution_count": 59,
   "id": "013c197e",
   "metadata": {},
   "outputs": [
    {
     "name": "stdout",
     "output_type": "stream",
     "text": [
      "x : tensor([[1., 2., 3.],\n",
      "        [4., 5., 6.]])\n",
      "y : tensor([[1., 1., 1.],\n",
      "        [2., 2., 2.]])\n"
     ]
    }
   ],
   "source": [
    "x = torch.Tensor([[1,2,3],[4,5,6]])\n",
    "y = torch.Tensor([[1,1,1],[2,2,2]])\n",
    "print(\"x :\", x)\n",
    "print(\"y :\", y)"
   ]
  },
  {
   "cell_type": "code",
   "execution_count": 63,
   "id": "e2676afe",
   "metadata": {},
   "outputs": [
    {
     "name": "stdout",
     "output_type": "stream",
     "text": [
      "tensor([[2., 3., 4.],\n",
      "        [6., 7., 8.]])\n",
      "z : tensor([[ 3.,  4.,  5.],\n",
      "        [ 8.,  9., 10.]])\n",
      "x + y : tensor([[ 3.,  4.,  5.],\n",
      "        [ 8.,  9., 10.]])\n"
     ]
    }
   ],
   "source": [
    "z = torch.add(x, y)\n",
    "print(x)\n",
    "print('z :', z )\n",
    "print('x + y :', x+y)"
   ]
  },
  {
   "cell_type": "code",
   "execution_count": 64,
   "id": "f5c99117",
   "metadata": {},
   "outputs": [
    {
     "name": "stdout",
     "output_type": "stream",
     "text": [
      "tensor([[0., 1., 2.],\n",
      "        [4., 5., 6.]])\n"
     ]
    }
   ],
   "source": [
    "print(x - 2)"
   ]
  },
  {
   "cell_type": "code",
   "execution_count": 65,
   "id": "ab791c38",
   "metadata": {},
   "outputs": [
    {
     "name": "stdout",
     "output_type": "stream",
     "text": [
      "tensor([[ 4.,  6.,  8.],\n",
      "        [12., 14., 16.]])\n"
     ]
    }
   ],
   "source": [
    "print(x*2)"
   ]
  },
  {
   "cell_type": "code",
   "execution_count": 66,
   "id": "8de032ad",
   "metadata": {},
   "outputs": [
    {
     "name": "stdout",
     "output_type": "stream",
     "text": [
      "tensor([[ 4.,  6.,  8.],\n",
      "        [12., 14., 16.]])\n"
     ]
    }
   ],
   "source": [
    "print(2*x)"
   ]
  },
  {
   "cell_type": "code",
   "execution_count": 67,
   "id": "0916abbe",
   "metadata": {},
   "outputs": [
    {
     "name": "stdout",
     "output_type": "stream",
     "text": [
      "z : tensor([[ 2.,  3.,  4.],\n",
      "        [12., 14., 16.]])\n",
      "x*y : tensor([[ 2.,  3.,  4.],\n",
      "        [12., 14., 16.]])\n"
     ]
    }
   ],
   "source": [
    "z = torch.mul(x, y)\n",
    "print(\"z :\", z)\n",
    "print(\"x*y :\", x*y)"
   ]
  },
  {
   "cell_type": "code",
   "execution_count": 68,
   "id": "5592accb",
   "metadata": {},
   "outputs": [
    {
     "name": "stdout",
     "output_type": "stream",
     "text": [
      "z : tensor([[ 4.,  9., 16.],\n",
      "        [36., 49., 64.]])\n",
      "x**2 : tensor([[ 4.,  9., 16.],\n",
      "        [36., 49., 64.]])\n"
     ]
    }
   ],
   "source": [
    "z = torch.pow(x, 2)\n",
    "print(\"z :\", z)\n",
    "print(\"x**2 :\", x**2)"
   ]
  },
  {
   "cell_type": "code",
   "execution_count": 69,
   "id": "4ca63681",
   "metadata": {},
   "outputs": [
    {
     "name": "stdout",
     "output_type": "stream",
     "text": [
      "z : tensor([[0.6931, 1.0986, 1.3863],\n",
      "        [1.7918, 1.9459, 2.0794]])\n",
      "x.log() : tensor([[0.6931, 1.0986, 1.3863],\n",
      "        [1.7918, 1.9459, 2.0794]])\n"
     ]
    }
   ],
   "source": [
    "z = torch.log(x)\n",
    "print(\"z :\", z)\n",
    "print(\"x.log() :\", x.log())"
   ]
  },
  {
   "cell_type": "code",
   "execution_count": 70,
   "id": "892a5cd4",
   "metadata": {},
   "outputs": [
    {
     "name": "stdout",
     "output_type": "stream",
     "text": [
      "z : tensor([[1.4142, 1.7321, 2.0000],\n",
      "        [2.4495, 2.6458, 2.8284]])\n",
      "x.sqrt() : tensor([[1.4142, 1.7321, 2.0000],\n",
      "        [2.4495, 2.6458, 2.8284]])\n"
     ]
    }
   ],
   "source": [
    "z = torch.sqrt(x)\n",
    "print(\"z :\", z)\n",
    "print(\"x.sqrt() :\", x.sqrt())"
   ]
  },
  {
   "cell_type": "code",
   "execution_count": 71,
   "id": "2dcf0417",
   "metadata": {},
   "outputs": [
    {
     "name": "stdout",
     "output_type": "stream",
     "text": [
      "tensor([[0., 1., 0.],\n",
      "        [0., 1., 0.]])\n"
     ]
    }
   ],
   "source": [
    "z = x % 2\n",
    "print(z)"
   ]
  },
  {
   "cell_type": "code",
   "execution_count": 72,
   "id": "26952612",
   "metadata": {},
   "outputs": [
    {
     "name": "stdout",
     "output_type": "stream",
     "text": [
      "z : tensor([[2., 3., 4.],\n",
      "        [6., 7., 8.]])\n",
      "x.abs() : tensor([[2., 3., 4.],\n",
      "        [6., 7., 8.]])\n"
     ]
    }
   ],
   "source": [
    "z = torch.abs(x)\n",
    "print(\"z :\", z)\n",
    "print(\"x.abs() :\", x.abs())"
   ]
  },
  {
   "cell_type": "markdown",
   "id": "d362eb3a",
   "metadata": {},
   "source": [
    "### Tensor Casting : "
   ]
  },
  {
   "cell_type": "markdown",
   "id": "5d6fdc49",
   "metadata": {},
   "source": [
    "Tensor casting refers to changing the data type of a tensor from one numerical type to another, such as converting from integers to floating-point numbers or vice versa. This can be important for ensuring compatibility in mathematical operations and precision requirements."
   ]
  },
  {
   "cell_type": "code",
   "execution_count": 73,
   "id": "ab0447b4",
   "metadata": {},
   "outputs": [
    {
     "name": "stdout",
     "output_type": "stream",
     "text": [
      "x : tensor([[1., 2., 3.],\n",
      "        [4., 5., 6.]])\n",
      "y : tensor([[1., 1., 1.],\n",
      "        [2., 2., 2.]])\n"
     ]
    }
   ],
   "source": [
    "x = torch.Tensor([[1,2,3],[4,5,6]])\n",
    "y = torch.Tensor([[1,1,1],[2,2,2]])\n",
    "print(\"x :\", x)\n",
    "print(\"y :\", y)"
   ]
  },
  {
   "cell_type": "code",
   "execution_count": 74,
   "id": "22b9499c",
   "metadata": {},
   "outputs": [
    {
     "data": {
      "text/plain": [
       "tensor([[1., 2., 3.],\n",
       "        [4., 5., 6.]], dtype=torch.float64)"
      ]
     },
     "execution_count": 74,
     "metadata": {},
     "output_type": "execute_result"
    }
   ],
   "source": [
    "x.type(torch.DoubleTensor)"
   ]
  },
  {
   "cell_type": "code",
   "execution_count": 75,
   "id": "054b3a50",
   "metadata": {},
   "outputs": [
    {
     "data": {
      "text/plain": [
       "tensor([[1., 2., 3.],\n",
       "        [4., 5., 6.]], dtype=torch.float64)"
      ]
     },
     "execution_count": 75,
     "metadata": {},
     "output_type": "execute_result"
    }
   ],
   "source": [
    "x.double()"
   ]
  },
  {
   "cell_type": "code",
   "execution_count": 76,
   "id": "7c995bbe",
   "metadata": {},
   "outputs": [
    {
     "data": {
      "text/plain": [
       "tensor([[1, 2, 3],\n",
       "        [4, 5, 6]], dtype=torch.int32)"
      ]
     },
     "execution_count": 76,
     "metadata": {},
     "output_type": "execute_result"
    }
   ],
   "source": [
    "x.type(torch.IntTensor)"
   ]
  },
  {
   "cell_type": "code",
   "execution_count": 78,
   "id": "7b3366bb",
   "metadata": {},
   "outputs": [
    {
     "data": {
      "text/plain": [
       "tensor([[1, 2, 3],\n",
       "        [4, 5, 6]], dtype=torch.int32)"
      ]
     },
     "execution_count": 78,
     "metadata": {},
     "output_type": "execute_result"
    }
   ],
   "source": [
    "x.int()"
   ]
  },
  {
   "cell_type": "markdown",
   "id": "ea07b3bc",
   "metadata": {},
   "source": [
    "### Tensor Statics :"
   ]
  },
  {
   "cell_type": "markdown",
   "id": "a5b39270",
   "metadata": {},
   "source": [
    "\n",
    "Tensor statistics involve calculating various numerical properties of tensors, such as mean, standard deviation, minimum, and maximum values, which are essential for understanding the data distribution and performing data analysis."
   ]
  },
  {
   "cell_type": "code",
   "execution_count": 79,
   "id": "a8022f22",
   "metadata": {},
   "outputs": [
    {
     "name": "stdout",
     "output_type": "stream",
     "text": [
      "tensor([[-1.,  2., -3.],\n",
      "        [ 4., -5.,  6.]])\n"
     ]
    }
   ],
   "source": [
    "x = torch.Tensor([[-1,2,-3],[4,-5,6]])\n",
    "print(x)"
   ]
  },
  {
   "cell_type": "code",
   "execution_count": 82,
   "id": "5bbaf68b",
   "metadata": {},
   "outputs": [
    {
     "name": "stdout",
     "output_type": "stream",
     "text": [
      "Sum : tensor(3.)\n",
      "Min : tensor(-5.)\n",
      "Max : tensor(6.)\n",
      "Var : tensor(17.9000)\n"
     ]
    }
   ],
   "source": [
    "print('Sum :', x.sum())\n",
    "print('Min :', x.min())\n",
    "print('Max :', x.max())\n",
    "print('Var :', x.var())"
   ]
  },
  {
   "cell_type": "code",
   "execution_count": 83,
   "id": "4ae3442a",
   "metadata": {},
   "outputs": [
    {
     "data": {
      "text/plain": [
       "tensor(3.)"
      ]
     },
     "execution_count": 83,
     "metadata": {},
     "output_type": "execute_result"
    }
   ],
   "source": [
    "x.sum()"
   ]
  },
  {
   "cell_type": "code",
   "execution_count": 84,
   "id": "3685b6e0",
   "metadata": {},
   "outputs": [
    {
     "data": {
      "text/plain": [
       "torch.Size([])"
      ]
     },
     "execution_count": 84,
     "metadata": {},
     "output_type": "execute_result"
    }
   ],
   "source": [
    "x.sum().size()"
   ]
  },
  {
   "cell_type": "code",
   "execution_count": 85,
   "id": "d7aba552",
   "metadata": {},
   "outputs": [
    {
     "name": "stdout",
     "output_type": "stream",
     "text": [
      "Sum Item: 3.0\n",
      "Min Item: -5.0\n",
      "Max Item: 6.0\n",
      "Var Item : 17.899999618530273\n"
     ]
    }
   ],
   "source": [
    "print('Sum Item:', x.sum().item())\n",
    "print('Min Item:', x.min().item())\n",
    "print('Max Item:', x.max().item())\n",
    "print('Var Item :', x.var().item())"
   ]
  },
  {
   "cell_type": "code",
   "execution_count": 86,
   "id": "d857f196",
   "metadata": {},
   "outputs": [
    {
     "data": {
      "text/plain": [
       "(tensor([4., 2., 6.]), tensor([1, 0, 1]))"
      ]
     },
     "execution_count": 86,
     "metadata": {},
     "output_type": "execute_result"
    }
   ],
   "source": [
    "value, index = x.max(dim=0)\n",
    "value, index"
   ]
  },
  {
   "cell_type": "code",
   "execution_count": 87,
   "id": "aee13ef7",
   "metadata": {},
   "outputs": [
    {
     "data": {
      "text/plain": [
       "(tensor([2., 6.]), tensor([1, 2]))"
      ]
     },
     "execution_count": 87,
     "metadata": {},
     "output_type": "execute_result"
    }
   ],
   "source": [
    "value, index = x.max(dim=1)\n",
    "value, index"
   ]
  },
  {
   "cell_type": "code",
   "execution_count": 88,
   "id": "6ba91595",
   "metadata": {},
   "outputs": [
    {
     "data": {
      "text/plain": [
       "tensor([[-3., -1.,  2.],\n",
       "        [-5.,  4.,  6.]])"
      ]
     },
     "execution_count": 88,
     "metadata": {},
     "output_type": "execute_result"
    }
   ],
   "source": [
    "value, index = x.sort(dim=1)\n",
    "value"
   ]
  },
  {
   "cell_type": "markdown",
   "id": "b9c0e5df",
   "metadata": {},
   "source": [
    "### Like Function :"
   ]
  },
  {
   "cell_type": "code",
   "execution_count": 89,
   "id": "de0768a2",
   "metadata": {},
   "outputs": [
    {
     "name": "stdout",
     "output_type": "stream",
     "text": [
      "tensor([[-1.,  2., -3.],\n",
      "        [ 4., -5.,  6.]])\n"
     ]
    }
   ],
   "source": [
    "x = torch.Tensor([[-1,2,-3],[4,-5,6]])\n",
    "print(x)"
   ]
  },
  {
   "cell_type": "markdown",
   "id": "02792713",
   "metadata": {},
   "source": [
    "\n",
    "torch.zeros_like creates a tensor of zeros with the same shape as the input tensor "
   ]
  },
  {
   "cell_type": "code",
   "execution_count": 90,
   "id": "888ffb21",
   "metadata": {},
   "outputs": [
    {
     "name": "stdout",
     "output_type": "stream",
     "text": [
      "tensor([[0., 0., 0.],\n",
      "        [0., 0., 0.]])\n"
     ]
    }
   ],
   "source": [
    "y = torch.zeros_like(x)\n",
    "print(y)"
   ]
  },
  {
   "cell_type": "markdown",
   "id": "3ca550ae",
   "metadata": {},
   "source": [
    "\n",
    "torch.ones_like creates a tensor of ones with the same shape as the input tensor "
   ]
  },
  {
   "cell_type": "code",
   "execution_count": 91,
   "id": "c5402dbf",
   "metadata": {},
   "outputs": [
    {
     "name": "stdout",
     "output_type": "stream",
     "text": [
      "tensor([[1., 1., 1.],\n",
      "        [1., 1., 1.]])\n"
     ]
    }
   ],
   "source": [
    "y = torch.ones_like(x)\n",
    "print(y)"
   ]
  },
  {
   "cell_type": "code",
   "execution_count": 92,
   "id": "a9b7743a",
   "metadata": {},
   "outputs": [
    {
     "name": "stdout",
     "output_type": "stream",
     "text": [
      "tensor([[0.5377, 0.6848, 0.0017],\n",
      "        [0.7292, 0.1438, 0.7800]])\n"
     ]
    }
   ],
   "source": [
    "y = torch.rand_like(x)\n",
    "print(y)"
   ]
  },
  {
   "cell_type": "markdown",
   "id": "0a39f96c",
   "metadata": {},
   "source": [
    "### Tensor Calculation As Matrix  :"
   ]
  },
  {
   "cell_type": "markdown",
   "id": "9037d0a7",
   "metadata": {},
   "source": [
    "\n",
    "Performing tensor calculations as matrices involves using mathematical operations on tensors, often in a matrix-like manner, to solve linear equations, transform data, or perform operations like matrix multiplication, inversion, and decomposition."
   ]
  },
  {
   "cell_type": "code",
   "execution_count": 96,
   "id": "40008557",
   "metadata": {},
   "outputs": [
    {
     "name": "stdout",
     "output_type": "stream",
     "text": [
      "x : tensor([[1., 1.],\n",
      "        [2., 2.]])\n",
      "y : tensor([[1., 2.],\n",
      "        [3., 4.]])\n"
     ]
    }
   ],
   "source": [
    "x = torch.Tensor([[1,1],[2,2]])\n",
    "y = torch.Tensor([[1,2],[3,4]])\n",
    "print(\"x :\", x)\n",
    "print(\"y :\", y)"
   ]
  },
  {
   "cell_type": "markdown",
   "id": "0d3223f4",
   "metadata": {},
   "source": [
    "\n",
    "torch.mm computes the matrix multiplication between two tensors in one line."
   ]
  },
  {
   "cell_type": "code",
   "execution_count": 97,
   "id": "1be29505",
   "metadata": {},
   "outputs": [
    {
     "data": {
      "text/plain": [
       "tensor([[ 4.,  6.],\n",
       "        [ 8., 12.]])"
      ]
     },
     "execution_count": 97,
     "metadata": {},
     "output_type": "execute_result"
    }
   ],
   "source": [
    "torch.mm(x, y)"
   ]
  },
  {
   "cell_type": "code",
   "execution_count": 98,
   "id": "9f5b9bb8",
   "metadata": {},
   "outputs": [
    {
     "data": {
      "text/plain": [
       "tensor([3., 6.])"
      ]
     },
     "execution_count": 98,
     "metadata": {},
     "output_type": "execute_result"
    }
   ],
   "source": [
    "z = torch.Tensor([1, 2])\n",
    "torch.mv(x, z)"
   ]
  },
  {
   "cell_type": "markdown",
   "id": "a983a5d0",
   "metadata": {},
   "source": [
    "`torch.dot` calculates the dot product between two 1-dimensional tensors in one line."
   ]
  },
  {
   "cell_type": "code",
   "execution_count": 99,
   "id": "d6c9ffa9",
   "metadata": {},
   "outputs": [
    {
     "data": {
      "text/plain": [
       "tensor(5.)"
      ]
     },
     "execution_count": 99,
     "metadata": {},
     "output_type": "execute_result"
    }
   ],
   "source": [
    "torch.dot(z, z)"
   ]
  },
  {
   "cell_type": "code",
   "execution_count": 100,
   "id": "7cd5d145",
   "metadata": {},
   "outputs": [
    {
     "data": {
      "text/plain": [
       "tensor([[1., 2.],\n",
       "        [1., 2.]])"
      ]
     },
     "execution_count": 100,
     "metadata": {},
     "output_type": "execute_result"
    }
   ],
   "source": [
    "x.t()"
   ]
  },
  {
   "cell_type": "code",
   "execution_count": 101,
   "id": "b0fb5266",
   "metadata": {},
   "outputs": [
    {
     "data": {
      "text/plain": [
       "tensor([[-2.0000,  1.0000],\n",
       "        [ 1.5000, -0.5000]])"
      ]
     },
     "execution_count": 101,
     "metadata": {},
     "output_type": "execute_result"
    }
   ],
   "source": [
    "y.inverse()"
   ]
  },
  {
   "cell_type": "code",
   "execution_count": 102,
   "id": "55a2b2cf",
   "metadata": {},
   "outputs": [
    {
     "data": {
      "text/plain": [
       "torch.Size([3, 3, 3])"
      ]
     },
     "execution_count": 102,
     "metadata": {},
     "output_type": "execute_result"
    }
   ],
   "source": [
    "x1 = torch.FloatTensor(3,3,2)\n",
    "x2 = torch.FloatTensor(3,2,3)\n",
    "\n",
    "torch.bmm(x1,x2).size()"
   ]
  },
  {
   "cell_type": "code",
   "execution_count": 103,
   "id": "6c5b0711",
   "metadata": {},
   "outputs": [
    {
     "data": {
      "text/plain": [
       "tensor([[[1.0194e-38, 9.9184e-39],\n",
       "         [2.9389e-39, 1.0194e-38],\n",
       "         [2.9389e-39, 9.2755e-39]],\n",
       "\n",
       "        [[9.0918e-39, 1.0010e-38],\n",
       "         [9.9184e-39, 1.0653e-38],\n",
       "         [9.1837e-39, 9.6428e-39]],\n",
       "\n",
       "        [[1.0010e-38, 9.1837e-39],\n",
       "         [8.9082e-39, 9.2755e-39],\n",
       "         [1.1112e-38, 0.0000e+00]]])"
      ]
     },
     "execution_count": 103,
     "metadata": {},
     "output_type": "execute_result"
    }
   ],
   "source": [
    "x1"
   ]
  },
  {
   "cell_type": "code",
   "execution_count": 104,
   "id": "2412cf31",
   "metadata": {},
   "outputs": [
    {
     "data": {
      "text/plain": [
       "tensor([[[9.0919e-39, 9.2755e-39, 2.9389e-39],\n",
       "         [1.0286e-38, 1.0469e-38, 1.0653e-38]],\n",
       "\n",
       "        [[1.0194e-38, 2.9389e-39, 1.0194e-38],\n",
       "         [9.9184e-39, 2.9389e-39, 1.0194e-38]],\n",
       "\n",
       "        [[2.9389e-39, 9.2755e-39, 9.0918e-39],\n",
       "         [1.0010e-38, 9.9184e-39, 1.0653e-38]]])"
      ]
     },
     "execution_count": 104,
     "metadata": {},
     "output_type": "execute_result"
    }
   ],
   "source": [
    "x2"
   ]
  },
  {
   "cell_type": "markdown",
   "id": "4b91ad1b",
   "metadata": {},
   "source": [
    "\n",
    "x.transpose returns the transpose of a tensor x, swapping its dimensions in one line."
   ]
  },
  {
   "cell_type": "code",
   "execution_count": 105,
   "id": "9a438073",
   "metadata": {},
   "outputs": [
    {
     "data": {
      "text/plain": [
       "tensor([[[1.0194e-38, 9.0918e-39, 1.0010e-38],\n",
       "         [2.9389e-39, 9.9184e-39, 8.9082e-39],\n",
       "         [2.9389e-39, 9.1837e-39, 1.1112e-38]],\n",
       "\n",
       "        [[9.9184e-39, 1.0010e-38, 9.1837e-39],\n",
       "         [1.0194e-38, 1.0653e-38, 9.2755e-39],\n",
       "         [9.2755e-39, 9.6428e-39, 0.0000e+00]]])"
      ]
     },
     "execution_count": 105,
     "metadata": {},
     "output_type": "execute_result"
    }
   ],
   "source": [
    "x1.transpose(0,2)"
   ]
  },
  {
   "cell_type": "markdown",
   "id": "83ce07c9",
   "metadata": {},
   "source": [
    "torch.linalg.eig computes the eigenvalues and eigenvectors of a square matrix in one line."
   ]
  },
  {
   "cell_type": "code",
   "execution_count": 108,
   "id": "49d4b996",
   "metadata": {},
   "outputs": [
    {
     "name": "stdout",
     "output_type": "stream",
     "text": [
      "eigenvalue : tensor([1.1921e-07+0.j, 3.0000e+00+0.j])\n",
      "eigenvector : tensor([[-0.7071+0.j, -0.4472+0.j],\n",
      "        [ 0.7071+0.j, -0.8944+0.j]])\n"
     ]
    }
   ],
   "source": [
    "eigenvalue, eigenvector = torch.linalg.eig(x)\n",
    "print(\"eigenvalue :\", eigenvalue)\n",
    "print(\"eigenvector :\", eigenvector)"
   ]
  },
  {
   "cell_type": "markdown",
   "id": "2020a1b5",
   "metadata": {},
   "source": [
    "torch.qr computes the QR decomposition of a matrix, factorizing it into an orthogonal and an upper triangular matrix in one line."
   ]
  },
  {
   "cell_type": "code",
   "execution_count": 109,
   "id": "92fbce9b",
   "metadata": {},
   "outputs": [
    {
     "name": "stdout",
     "output_type": "stream",
     "text": [
      "Q : tensor([[-0.4472, -0.8944],\n",
      "        [-0.8944,  0.4472]])\n",
      "R : tensor([[-2.2361e+00, -2.2361e+00],\n",
      "        [ 0.0000e+00,  1.1921e-07]])\n"
     ]
    },
    {
     "name": "stderr",
     "output_type": "stream",
     "text": [
      "C:\\Users\\DELL\\AppData\\Local\\Temp\\ipykernel_2632\\4160111081.py:1: UserWarning: torch.qr is deprecated in favor of torch.linalg.qr and will be removed in a future PyTorch release.\n",
      "The boolean parameter 'some' has been replaced with a string parameter 'mode'.\n",
      "Q, R = torch.qr(A, some)\n",
      "should be replaced with\n",
      "Q, R = torch.linalg.qr(A, 'reduced' if some else 'complete') (Triggered internally at ..\\aten\\src\\ATen\\native\\BatchLinearAlgebra.cpp:2431.)\n",
      "  Q,R = torch.qr(x)\n"
     ]
    }
   ],
   "source": [
    "Q,R = torch.qr(x)\n",
    "print(\"Q :\", Q)\n",
    "print(\"R :\", R)"
   ]
  },
  {
   "cell_type": "markdown",
   "id": "f0484822",
   "metadata": {},
   "source": [
    "torch.svd performs Singular Value Decomposition on a tensor, factorizing it into three tensors in one line."
   ]
  },
  {
   "cell_type": "code",
   "execution_count": 110,
   "id": "97153ca8",
   "metadata": {},
   "outputs": [
    {
     "name": "stdout",
     "output_type": "stream",
     "text": [
      "S : tensor([[-0.4472, -0.8944],\n",
      "        [-0.8944,  0.4472]])\n",
      "V : tensor([3.1623e+00, 5.2283e-08])\n",
      "D : tensor([[-0.7071, -0.7071],\n",
      "        [-0.7071,  0.7071]])\n"
     ]
    }
   ],
   "source": [
    "S,V,D = torch.svd(x)\n",
    "print(\"S :\", S)\n",
    "print(\"V :\", V)\n",
    "print(\"D :\", D)"
   ]
  },
  {
   "cell_type": "code",
   "execution_count": null,
   "id": "c1b82cfd",
   "metadata": {},
   "outputs": [],
   "source": []
  }
 ],
 "metadata": {
  "kernelspec": {
   "display_name": "Python 3 (ipykernel)",
   "language": "python",
   "name": "python3"
  },
  "language_info": {
   "codemirror_mode": {
    "name": "ipython",
    "version": 3
   },
   "file_extension": ".py",
   "mimetype": "text/x-python",
   "name": "python",
   "nbconvert_exporter": "python",
   "pygments_lexer": "ipython3",
   "version": "3.10.9"
  }
 },
 "nbformat": 4,
 "nbformat_minor": 5
}
