{
 "cells": [
  {
   "cell_type": "code",
   "execution_count": 1,
   "id": "168a2e7f",
   "metadata": {},
   "outputs": [],
   "source": [
    "import torch.nn as nn"
   ]
  },
  {
   "cell_type": "markdown",
   "id": "d155648d",
   "metadata": {},
   "source": [
    "\n",
    "\n",
    "1. `self.batch_norm1 = nn.BatchNorm2d(input_num_planes)`: Initializes a 2D batch normalization layer for the input feature maps to stabilize training.\n",
    "2. `self.conv_layer1 = nn.Conv2d(in_channels=input_num_planes, out_channels=4*rate_inc, kernel_size=1, bias=False)`: Creates a 1x1 convolutional layer to increase channel dimension by a factor of 4, without bias.\n",
    "3. `self.batch_norm2 = nn.BatchNorm2d(4*rate_inc)`: Defines another batch normalization layer for the output of the first convolution.\n",
    "4. `self.conv_layer2 = nn.Conv2d(in_channels=4*rate_inc, out_channels=rate_inc, kernel_size=3, padding=1, bias=False)`: Adds a 3x3 convolutional layer with padding to reduce the channel dimension to `rate_inc`.\n",
    "5. `op = self.conv_layer1(F.relu(self.batch_norm1(inp)))`: Applies batch normalization, ReLU activation, and the first convolution to the input.\n",
    "6. `op = self.conv_layer2(F.relu(self.batch_norm2(op)))`: Performs batch normalization, ReLU activation, and the second convolution on the previous output.\n",
    "7. `op = torch.cat([op, inp], 1)`: Concatenates the output of the second convolution with the original input along the channel dimension.\n",
    "8. `return op`: Returns the final output after the transformations in the `forward` method."
   ]
  },
  {
   "cell_type": "code",
   "execution_count": 2,
   "id": "990c2e50",
   "metadata": {},
   "outputs": [],
   "source": [
    "class DenseBlock(nn.Module):\n",
    "    def __init__(self, input_num_planes, rate_inc):\n",
    "        super(DenseBlock, self).__init__()\n",
    "        self.batch_norm1 = nn.BatchNorm2d(input_num_planes)\n",
    "        self.conv_layer1 = nn.Conv2d(in_channels=input_num_planes, out_channels=4*rate_inc, kernel_size=1, bias=False)\n",
    "        self.batch_norm2 = nn.BatchNorm2d(4*rate_inc)\n",
    "        self.conv_layer2 = nn.Conv2d(in_channels=4*rate_inc, out_channels=rate_inc, kernel_size=3, padding=1, bias=False)\n",
    "    def forward(self, inp):\n",
    "        op = self.conv_layer1(F.relu(self.batch_norm1(inp)))\n",
    "        op = self.conv_layer2(F.relu(self.batch_norm2(op)))\n",
    "        op = torch.cat([op,inp], 1)\n",
    "        return op"
   ]
  },
  {
   "cell_type": "markdown",
   "id": "8fe9a350",
   "metadata": {},
   "source": [
    "PyTorch module `TransBlock`, which is used for transitioning between different stages or levels of feature maps in a convolutional neural network (CNN).\n",
    "\n",
    "1. `self.batch_norm = nn.BatchNorm2d(input_num_planes)`: Initializes a 2D batch normalization layer for the input feature maps to stabilize training.\n",
    "\n",
    "2. `self.conv_layer = nn.Conv2d(in_channels=input_num_planes, out_channels=output_num_planes, kernel_size=1, bias=False)`: Creates a 1x1 convolutional layer that transforms the input feature maps from `input_num_planes` channels to `output_num_planes` channels, without bias.\n",
    "\n",
    "3. `op = self.conv_layer(F.relu(self.batch_norm(inp))`: Applies batch normalization, ReLU activation, and the 1x1 convolution to the input feature maps, transforming them to the desired number of output channels.\n",
    "\n",
    "4. `op = F.avg_pool2d(op, 2)`: Performs average pooling with a 2x2 window to downsample the spatial dimensions of the feature maps, reducing their size. This operation is often used to transition from one stage of a CNN to another while reducing spatial resolution."
   ]
  },
  {
   "cell_type": "code",
   "execution_count": 3,
   "id": "9a6c2b01",
   "metadata": {},
   "outputs": [],
   "source": [
    "class TransBlock(nn.Module):\n",
    "    def __init__(self, input_num_planes, output_num_planes):\n",
    "        super(TransBlock, self).__init__()\n",
    "        self.batch_norm = nn.BatchNorm2d(input_num_planes)\n",
    "        self.conv_layer = nn.Conv2d(in_channels=input_num_planes, out_channels=output_num_planes, kernel_size=1, bias=False)\n",
    "    def forward(self, inp):\n",
    "        op = self.conv_layer(F.relu(self.batch_norm(inp)))\n",
    "        op = F.avg_pool2d(op, 2)\n",
    "        return op"
   ]
  },
  {
   "cell_type": "code",
   "execution_count": null,
   "id": "b5339781",
   "metadata": {},
   "outputs": [],
   "source": []
  }
 ],
 "metadata": {
  "kernelspec": {
   "display_name": "Python 3 (ipykernel)",
   "language": "python",
   "name": "python3"
  },
  "language_info": {
   "codemirror_mode": {
    "name": "ipython",
    "version": 3
   },
   "file_extension": ".py",
   "mimetype": "text/x-python",
   "name": "python",
   "nbconvert_exporter": "python",
   "pygments_lexer": "ipython3",
   "version": "3.10.9"
  }
 },
 "nbformat": 4,
 "nbformat_minor": 5
}
